{
 "cells": [
  {
   "cell_type": "markdown",
   "id": "66ffa209",
   "metadata": {},
   "source": [
    "   - **t-Distributed Stochastic Neighbor Embedding (t-SNE)**: Visualizes high-dimensional data."
   ]
  },
  {
   "cell_type": "markdown",
   "id": "0511c8d0",
   "metadata": {},
   "source": [
    "t-SNE, which stands for t-Distributed Stochastic Neighbor Embedding, is a dimensionality reduction technique commonly used for visualizing high-dimensional data in a lower-dimensional space (usually 2D or 3D). It is particularly useful for visualizing complex datasets and exploring patterns or clusters within the data. t-SNE attempts to maintain the pairwise similarity of data points in the lower-dimensional space, making it effective for revealing the underlying structure of the data."
   ]
  },
  {
   "cell_type": "code",
   "execution_count": 1,
   "id": "4c8e09cc",
   "metadata": {},
   "outputs": [],
   "source": [
    "import numpy as np\n",
    "import matplotlib.pyplot as plt\n",
    "from sklearn import datasets\n",
    "from sklearn.manifold import TSNE\n"
   ]
  },
  {
   "cell_type": "code",
   "execution_count": 2,
   "id": "4a999aef",
   "metadata": {},
   "outputs": [],
   "source": [
    "\n",
    "# Load a sample dataset (Iris dataset as an example)\n",
    "iris = datasets.load_iris()\n",
    "X = iris.data\n",
    "y = iris.target\n"
   ]
  },
  {
   "cell_type": "code",
   "execution_count": 6,
   "id": "37c8ff73",
   "metadata": {},
   "outputs": [
    {
     "name": "stderr",
     "output_type": "stream",
     "text": [
      "C:\\Users\\52477\\anaconda3\\lib\\site-packages\\sklearn\\manifold\\_t_sne.py:780: FutureWarning: The default initialization in TSNE will change from 'random' to 'pca' in 1.2.\n",
      "  warnings.warn(\n",
      "C:\\Users\\52477\\anaconda3\\lib\\site-packages\\sklearn\\manifold\\_t_sne.py:790: FutureWarning: The default learning rate in TSNE will change from 200.0 to 'auto' in 1.2.\n",
      "  warnings.warn(\n"
     ]
    }
   ],
   "source": [
    "\n",
    "# Apply t-SNE to reduce the dimensionality to 2D\n",
    "tsne = TSNE(n_components=2, perplexity=30, random_state=42)\n",
    "X_tsne = tsne.fit_transform(X)\n"
   ]
  },
  {
   "cell_type": "code",
   "execution_count": null,
   "id": "c19e01e9",
   "metadata": {},
   "outputs": [],
   "source": [
    "\n",
    "# Visualize the reduced data\n",
    "plt.figure(figsize=(8, 6))\n",
    "plt.scatter(X_tsne[:, 0], X_tsne[:, 1], c=y, cmap=plt.cm.get_cmap(\"viridis\", 3))\n",
    "plt.colorbar(ticks=range(3), label='Target')\n",
    "plt.title('t-SNE Visualization of Iris Dataset')\n",
    "plt.show()\n"
   ]
  },
  {
   "cell_type": "markdown",
   "id": "1a0c8e7e",
   "metadata": {},
   "source": [
    "In this example:\n",
    "\n",
    "We load the Iris dataset, which is a commonly used dataset for classification tasks.\n",
    "\n",
    "We apply t-SNE with n_components=2 to reduce the dimensionality of the dataset to 2D. You can adjust the perplexity and other hyperparameters to optimize the visualization for your specific dataset.\n",
    "\n",
    "We visualize the reduced data using a scatter plot, where each point is colored according to its class label.\n",
    "\n",
    "Make sure to replace the sample dataset with your own data when applying t-SNE to your specific use case. The resulting plot will show how your high-dimensional data is projected into a lower-dimensional space while preserving certain similarities among data points."
   ]
  },
  {
   "cell_type": "code",
   "execution_count": null,
   "id": "916ca04b",
   "metadata": {},
   "outputs": [],
   "source": []
  },
  {
   "cell_type": "code",
   "execution_count": null,
   "id": "fcfdf76a",
   "metadata": {},
   "outputs": [],
   "source": []
  },
  {
   "cell_type": "code",
   "execution_count": null,
   "id": "effae18e",
   "metadata": {},
   "outputs": [],
   "source": []
  },
  {
   "cell_type": "code",
   "execution_count": null,
   "id": "8ba1003a",
   "metadata": {},
   "outputs": [],
   "source": []
  },
  {
   "cell_type": "code",
   "execution_count": null,
   "id": "a08400d1",
   "metadata": {},
   "outputs": [],
   "source": []
  }
 ],
 "metadata": {
  "kernelspec": {
   "display_name": "Python 3 (ipykernel)",
   "language": "python",
   "name": "python3"
  },
  "language_info": {
   "codemirror_mode": {
    "name": "ipython",
    "version": 3
   },
   "file_extension": ".py",
   "mimetype": "text/x-python",
   "name": "python",
   "nbconvert_exporter": "python",
   "pygments_lexer": "ipython3",
   "version": "3.9.12"
  }
 },
 "nbformat": 4,
 "nbformat_minor": 5
}
