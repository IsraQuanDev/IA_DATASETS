{
 "cells": [
  {
   "cell_type": "code",
   "execution_count": 5,
   "id": "02b51f28",
   "metadata": {},
   "outputs": [
    {
     "data": {
      "text/html": [
       "<div>\n",
       "<style scoped>\n",
       "    .dataframe tbody tr th:only-of-type {\n",
       "        vertical-align: middle;\n",
       "    }\n",
       "\n",
       "    .dataframe tbody tr th {\n",
       "        vertical-align: top;\n",
       "    }\n",
       "\n",
       "    .dataframe thead th {\n",
       "        text-align: right;\n",
       "    }\n",
       "</style>\n",
       "<table border=\"1\" class=\"dataframe\">\n",
       "  <thead>\n",
       "    <tr style=\"text-align: right;\">\n",
       "      <th></th>\n",
       "      <th>Date</th>\n",
       "      <th>Open</th>\n",
       "      <th>High</th>\n",
       "      <th>Low</th>\n",
       "      <th>Close</th>\n",
       "      <th>Adj Close</th>\n",
       "      <th>Volume</th>\n",
       "      <th>Cumulative Open</th>\n",
       "      <th>Price Change</th>\n",
       "    </tr>\n",
       "  </thead>\n",
       "  <tbody>\n",
       "    <tr>\n",
       "      <th>0</th>\n",
       "      <td>2022-08-29</td>\n",
       "      <td>282.829987</td>\n",
       "      <td>287.739990</td>\n",
       "      <td>280.700012</td>\n",
       "      <td>284.820007</td>\n",
       "      <td>284.820007</td>\n",
       "      <td>41864700</td>\n",
       "      <td>282.829987</td>\n",
       "      <td>NaN</td>\n",
       "    </tr>\n",
       "    <tr>\n",
       "      <th>1</th>\n",
       "      <td>2022-08-30</td>\n",
       "      <td>287.869995</td>\n",
       "      <td>288.480011</td>\n",
       "      <td>272.649994</td>\n",
       "      <td>277.700012</td>\n",
       "      <td>277.700012</td>\n",
       "      <td>50541800</td>\n",
       "      <td>570.699982</td>\n",
       "      <td>5.040009</td>\n",
       "    </tr>\n",
       "    <tr>\n",
       "      <th>2</th>\n",
       "      <td>2022-08-31</td>\n",
       "      <td>280.619995</td>\n",
       "      <td>281.250000</td>\n",
       "      <td>271.809998</td>\n",
       "      <td>275.609985</td>\n",
       "      <td>275.609985</td>\n",
       "      <td>52107300</td>\n",
       "      <td>851.319977</td>\n",
       "      <td>-7.250000</td>\n",
       "    </tr>\n",
       "    <tr>\n",
       "      <th>3</th>\n",
       "      <td>2022-09-01</td>\n",
       "      <td>272.579987</td>\n",
       "      <td>277.579987</td>\n",
       "      <td>266.149994</td>\n",
       "      <td>277.160004</td>\n",
       "      <td>277.160004</td>\n",
       "      <td>54287000</td>\n",
       "      <td>1123.899963</td>\n",
       "      <td>-8.040009</td>\n",
       "    </tr>\n",
       "    <tr>\n",
       "      <th>4</th>\n",
       "      <td>2022-09-02</td>\n",
       "      <td>281.070007</td>\n",
       "      <td>282.350006</td>\n",
       "      <td>269.079987</td>\n",
       "      <td>270.209991</td>\n",
       "      <td>270.209991</td>\n",
       "      <td>50890100</td>\n",
       "      <td>1404.969971</td>\n",
       "      <td>8.490021</td>\n",
       "    </tr>\n",
       "  </tbody>\n",
       "</table>\n",
       "</div>"
      ],
      "text/plain": [
       "         Date        Open        High         Low       Close   Adj Close  \\\n",
       "0  2022-08-29  282.829987  287.739990  280.700012  284.820007  284.820007   \n",
       "1  2022-08-30  287.869995  288.480011  272.649994  277.700012  277.700012   \n",
       "2  2022-08-31  280.619995  281.250000  271.809998  275.609985  275.609985   \n",
       "3  2022-09-01  272.579987  277.579987  266.149994  277.160004  277.160004   \n",
       "4  2022-09-02  281.070007  282.350006  269.079987  270.209991  270.209991   \n",
       "\n",
       "     Volume  Cumulative Open  Price Change  \n",
       "0  41864700       282.829987           NaN  \n",
       "1  50541800       570.699982      5.040009  \n",
       "2  52107300       851.319977     -7.250000  \n",
       "3  54287000      1123.899963     -8.040009  \n",
       "4  50890100      1404.969971      8.490021  "
      ]
     },
     "execution_count": 5,
     "metadata": {},
     "output_type": "execute_result"
    }
   ],
   "source": [
    "import pandas as pd\n",
    "\n",
    "# Especifica la ruta de tu archivo Excel \n",
    "archivo_excel = 'C:\\\\Users\\\\52477\\\\Desktop\\\\DATA_SCIENCE_PROYECTS\\\\DATASETS\\\\tesla_data.csv'\n",
    "\n",
    "# Lee el archivo Excel en un DataFrame de Pandas\n",
    "df = pd.read_csv(archivo_excel)\n",
    "\n",
    "# Ahora puedes trabajar con los datos en el DataFrame\n",
    "\n",
    "df.head()\n"
   ]
  },
  {
   "cell_type": "code",
   "execution_count": 6,
   "id": "6e57d26d",
   "metadata": {},
   "outputs": [
    {
     "data": {
      "text/html": [
       "<div>\n",
       "<style scoped>\n",
       "    .dataframe tbody tr th:only-of-type {\n",
       "        vertical-align: middle;\n",
       "    }\n",
       "\n",
       "    .dataframe tbody tr th {\n",
       "        vertical-align: top;\n",
       "    }\n",
       "\n",
       "    .dataframe thead th {\n",
       "        text-align: right;\n",
       "    }\n",
       "</style>\n",
       "<table border=\"1\" class=\"dataframe\">\n",
       "  <thead>\n",
       "    <tr style=\"text-align: right;\">\n",
       "      <th></th>\n",
       "      <th>Open</th>\n",
       "      <th>High</th>\n",
       "      <th>Low</th>\n",
       "      <th>Close</th>\n",
       "      <th>Adj Close</th>\n",
       "      <th>Volume</th>\n",
       "      <th>Cumulative Open</th>\n",
       "      <th>Price Change</th>\n",
       "    </tr>\n",
       "  </thead>\n",
       "  <tbody>\n",
       "    <tr>\n",
       "      <th>count</th>\n",
       "      <td>251.000000</td>\n",
       "      <td>251.000000</td>\n",
       "      <td>251.000000</td>\n",
       "      <td>251.000000</td>\n",
       "      <td>251.000000</td>\n",
       "      <td>2.510000e+02</td>\n",
       "      <td>251.000000</td>\n",
       "      <td>250.000000</td>\n",
       "    </tr>\n",
       "    <tr>\n",
       "      <th>mean</th>\n",
       "      <td>208.540438</td>\n",
       "      <td>213.040358</td>\n",
       "      <td>203.648127</td>\n",
       "      <td>208.426494</td>\n",
       "      <td>208.426494</td>\n",
       "      <td>1.274835e+08</td>\n",
       "      <td>26010.168127</td>\n",
       "      <td>-0.161000</td>\n",
       "    </tr>\n",
       "    <tr>\n",
       "      <th>std</th>\n",
       "      <td>48.217368</td>\n",
       "      <td>48.610792</td>\n",
       "      <td>47.720669</td>\n",
       "      <td>48.145007</td>\n",
       "      <td>48.145007</td>\n",
       "      <td>4.724183e+07</td>\n",
       "      <td>13961.264129</td>\n",
       "      <td>8.194105</td>\n",
       "    </tr>\n",
       "    <tr>\n",
       "      <th>min</th>\n",
       "      <td>103.000000</td>\n",
       "      <td>111.750000</td>\n",
       "      <td>101.809998</td>\n",
       "      <td>108.099998</td>\n",
       "      <td>108.099998</td>\n",
       "      <td>4.186470e+07</td>\n",
       "      <td>282.829987</td>\n",
       "      <td>-24.360001</td>\n",
       "    </tr>\n",
       "    <tr>\n",
       "      <th>25%</th>\n",
       "      <td>176.635002</td>\n",
       "      <td>182.419998</td>\n",
       "      <td>172.504997</td>\n",
       "      <td>178.474998</td>\n",
       "      <td>178.474998</td>\n",
       "      <td>9.351960e+07</td>\n",
       "      <td>15209.229912</td>\n",
       "      <td>-6.415005</td>\n",
       "    </tr>\n",
       "    <tr>\n",
       "      <th>50%</th>\n",
       "      <td>198.539993</td>\n",
       "      <td>203.000000</td>\n",
       "      <td>192.889999</td>\n",
       "      <td>197.580002</td>\n",
       "      <td>197.580002</td>\n",
       "      <td>1.219993e+08</td>\n",
       "      <td>25352.179886</td>\n",
       "      <td>-0.695007</td>\n",
       "    </tr>\n",
       "    <tr>\n",
       "      <th>75%</th>\n",
       "      <td>249.385002</td>\n",
       "      <td>253.034996</td>\n",
       "      <td>242.389999</td>\n",
       "      <td>249.570000</td>\n",
       "      <td>249.570000</td>\n",
       "      <td>1.599710e+08</td>\n",
       "      <td>36608.089920</td>\n",
       "      <td>5.782497</td>\n",
       "    </tr>\n",
       "    <tr>\n",
       "      <th>max</th>\n",
       "      <td>308.290009</td>\n",
       "      <td>313.799988</td>\n",
       "      <td>305.579987</td>\n",
       "      <td>309.070007</td>\n",
       "      <td>309.070007</td>\n",
       "      <td>3.065906e+08</td>\n",
       "      <td>52343.649948</td>\n",
       "      <td>24.850006</td>\n",
       "    </tr>\n",
       "  </tbody>\n",
       "</table>\n",
       "</div>"
      ],
      "text/plain": [
       "             Open        High         Low       Close   Adj Close  \\\n",
       "count  251.000000  251.000000  251.000000  251.000000  251.000000   \n",
       "mean   208.540438  213.040358  203.648127  208.426494  208.426494   \n",
       "std     48.217368   48.610792   47.720669   48.145007   48.145007   \n",
       "min    103.000000  111.750000  101.809998  108.099998  108.099998   \n",
       "25%    176.635002  182.419998  172.504997  178.474998  178.474998   \n",
       "50%    198.539993  203.000000  192.889999  197.580002  197.580002   \n",
       "75%    249.385002  253.034996  242.389999  249.570000  249.570000   \n",
       "max    308.290009  313.799988  305.579987  309.070007  309.070007   \n",
       "\n",
       "             Volume  Cumulative Open  Price Change  \n",
       "count  2.510000e+02       251.000000    250.000000  \n",
       "mean   1.274835e+08     26010.168127     -0.161000  \n",
       "std    4.724183e+07     13961.264129      8.194105  \n",
       "min    4.186470e+07       282.829987    -24.360001  \n",
       "25%    9.351960e+07     15209.229912     -6.415005  \n",
       "50%    1.219993e+08     25352.179886     -0.695007  \n",
       "75%    1.599710e+08     36608.089920      5.782497  \n",
       "max    3.065906e+08     52343.649948     24.850006  "
      ]
     },
     "execution_count": 6,
     "metadata": {},
     "output_type": "execute_result"
    }
   ],
   "source": [
    "df.describe()"
   ]
  },
  {
   "cell_type": "markdown",
   "id": "f95bbd2c",
   "metadata": {},
   "source": [
    "### Inferential Statistics\n",
    "\n",
    "#### 1.Hypothesis Testing with SciPy:\n",
    "\n"
   ]
  },
  {
   "cell_type": "code",
   "execution_count": 7,
   "id": "0ccdce29",
   "metadata": {},
   "outputs": [],
   "source": [
    "from scipy import stats\n"
   ]
  },
  {
   "cell_type": "code",
   "execution_count": 8,
   "id": "07065402",
   "metadata": {},
   "outputs": [],
   "source": [
    "sample_a = df['Open']\n",
    "sample_b = df['High']"
   ]
  },
  {
   "cell_type": "code",
   "execution_count": 9,
   "id": "964651a9",
   "metadata": {},
   "outputs": [],
   "source": [
    "# Perform a t-test\n",
    "t_statistic, p_value = stats.ttest_ind(sample_a, sample_b)"
   ]
  },
  {
   "cell_type": "code",
   "execution_count": 10,
   "id": "f7bedece",
   "metadata": {},
   "outputs": [
    {
     "name": "stdout",
     "output_type": "stream",
     "text": [
      "T-statistic: -1.041241393883299\n",
      "P-value: 0.2982667363441487\n"
     ]
    }
   ],
   "source": [
    "# Print the results\n",
    "print(f'T-statistic: {t_statistic}')\n",
    "print(f'P-value: {p_value}')"
   ]
  },
  {
   "cell_type": "code",
   "execution_count": 11,
   "id": "e47bfb0c",
   "metadata": {},
   "outputs": [
    {
     "name": "stdout",
     "output_type": "stream",
     "text": [
      "T-statistic: -1.041241393883299\n",
      "P-value: 0.2982667363441487\n"
     ]
    }
   ],
   "source": [
    "# Print the results\n",
    "print(f'T-statistic: {t_statistic}')\n",
    "print(f'P-value: {p_value}')"
   ]
  },
  {
   "cell_type": "markdown",
   "id": "e14851f0",
   "metadata": {},
   "source": [
    "#### 2.Regression Analysis with StatsModels:\n",
    "\n",
    "You can perform regression analysis using the StatsModels library. For example, let's perform a linear regression.\n",
    "\n"
   ]
  },
  {
   "cell_type": "code",
   "execution_count": 12,
   "id": "f3e6ceeb",
   "metadata": {},
   "outputs": [
    {
     "name": "stdout",
     "output_type": "stream",
     "text": [
      "                            OLS Regression Results                            \n",
      "==============================================================================\n",
      "Dep. Variable:           Price Change   R-squared:                         nan\n",
      "Model:                            OLS   Adj. R-squared:                    nan\n",
      "Method:                 Least Squares   F-statistic:                       nan\n",
      "Date:                Tue, 29 Aug 2023   Prob (F-statistic):                nan\n",
      "Time:                        17:11:44   Log-Likelihood:                    nan\n",
      "No. Observations:                 251   AIC:                               nan\n",
      "Df Residuals:                     248   BIC:                               nan\n",
      "Df Model:                           2                                         \n",
      "Covariance Type:            nonrobust                                         \n",
      "==============================================================================\n",
      "                 coef    std err          t      P>|t|      [0.025      0.975]\n",
      "------------------------------------------------------------------------------\n",
      "const             nan        nan        nan        nan         nan         nan\n",
      "Open              nan        nan        nan        nan         nan         nan\n",
      "High              nan        nan        nan        nan         nan         nan\n",
      "==============================================================================\n",
      "Omnibus:                          nan   Durbin-Watson:                     nan\n",
      "Prob(Omnibus):                    nan   Jarque-Bera (JB):                  nan\n",
      "Skew:                             nan   Prob(JB):                          nan\n",
      "Kurtosis:                         nan   Cond. No.                     1.39e+03\n",
      "==============================================================================\n",
      "\n",
      "Notes:\n",
      "[1] Standard Errors assume that the covariance matrix of the errors is correctly specified.\n",
      "[2] The condition number is large, 1.39e+03. This might indicate that there are\n",
      "strong multicollinearity or other numerical problems.\n"
     ]
    }
   ],
   "source": [
    "import pandas as pd\n",
    "import statsmodels.api as sm\n",
    " \n",
    "\n",
    "# Define your dependent variable (y) and independent variables (X)\n",
    "y = df['Price Change']\n",
    "X = df[['Open', 'High']]\n",
    "\n",
    "# Add a constant to the independent variables\n",
    "X = sm.add_constant(X)\n",
    "\n",
    "# Fit a linear regression model\n",
    "model = sm.OLS(y, X).fit()\n",
    "\n",
    "# Print the regression summary\n",
    "print(model.summary())\n"
   ]
  },
  {
   "cell_type": "markdown",
   "id": "15c6fa37",
   "metadata": {},
   "source": [
    "#### 3.-Bootstrap Sampling:\n",
    "\n",
    "Bootstrap sampling is useful for estimating the sampling distribution of a statistic. Here's an example of bootstrapping the mean:"
   ]
  },
  {
   "cell_type": "code",
   "execution_count": 20,
   "id": "f2b3b562",
   "metadata": {},
   "outputs": [],
   "source": [
    "import pandas as pd\n",
    "import numpy as np\n",
    "\n",
    " \n",
    "# Extract the data you want to bootstrap (e.g., a single column)\n",
    "data = df['High']\n",
    "\n",
    "# Perform bootstrap sampling to estimate the mean\n",
    "n_iterations = 1000  # Number of bootstrap samples\n",
    "bootstrap_means = []\n",
    "\n",
    "for _ in range(n_iterations):\n",
    "    sample = np.random.choice(data, size=len(data), replace=True)\n",
    "    bootstrap_means.append(np.mean(sample))\n",
    "\n",
    "# Calculate confidence intervals, etc., from the bootstrap means\n",
    "confidence_interval = np.percentile(bootstrap_means, [2.5, 97.5])\n",
    "\n"
   ]
  },
  {
   "cell_type": "code",
   "execution_count": 21,
   "id": "d1b6324f",
   "metadata": {},
   "outputs": [
    {
     "data": {
      "text/plain": [
       "array([206.97752239, 218.75096222])"
      ]
     },
     "execution_count": 21,
     "metadata": {},
     "output_type": "execute_result"
    }
   ],
   "source": [
    "confidence_interval "
   ]
  },
  {
   "cell_type": "markdown",
   "id": "cf65de1b",
   "metadata": {},
   "source": [
    "### Clustering Algorithms"
   ]
  },
  {
   "cell_type": "code",
   "execution_count": 32,
   "id": "ce31003f",
   "metadata": {},
   "outputs": [],
   "source": [
    "import numpy as np\n",
    "import pandas as pd\n",
    "from sklearn.cluster import KMeans\n",
    "import matplotlib.pyplot as plt\n"
   ]
  },
  {
   "cell_type": "code",
   "execution_count": 33,
   "id": "f5d1d061",
   "metadata": {},
   "outputs": [
    {
     "data": {
      "text/html": [
       "<div>\n",
       "<style scoped>\n",
       "    .dataframe tbody tr th:only-of-type {\n",
       "        vertical-align: middle;\n",
       "    }\n",
       "\n",
       "    .dataframe tbody tr th {\n",
       "        vertical-align: top;\n",
       "    }\n",
       "\n",
       "    .dataframe thead th {\n",
       "        text-align: right;\n",
       "    }\n",
       "</style>\n",
       "<table border=\"1\" class=\"dataframe\">\n",
       "  <thead>\n",
       "    <tr style=\"text-align: right;\">\n",
       "      <th></th>\n",
       "      <th>Date</th>\n",
       "      <th>Open</th>\n",
       "      <th>High</th>\n",
       "      <th>Low</th>\n",
       "      <th>Close</th>\n",
       "      <th>Adj Close</th>\n",
       "      <th>Volume</th>\n",
       "      <th>Cumulative Open</th>\n",
       "      <th>Price Change</th>\n",
       "    </tr>\n",
       "  </thead>\n",
       "  <tbody>\n",
       "    <tr>\n",
       "      <th>0</th>\n",
       "      <td>2022-08-29</td>\n",
       "      <td>282.829987</td>\n",
       "      <td>287.739990</td>\n",
       "      <td>280.700012</td>\n",
       "      <td>284.820007</td>\n",
       "      <td>284.820007</td>\n",
       "      <td>41864700</td>\n",
       "      <td>282.829987</td>\n",
       "      <td>NaN</td>\n",
       "    </tr>\n",
       "    <tr>\n",
       "      <th>1</th>\n",
       "      <td>2022-08-30</td>\n",
       "      <td>287.869995</td>\n",
       "      <td>288.480011</td>\n",
       "      <td>272.649994</td>\n",
       "      <td>277.700012</td>\n",
       "      <td>277.700012</td>\n",
       "      <td>50541800</td>\n",
       "      <td>570.699982</td>\n",
       "      <td>5.040009</td>\n",
       "    </tr>\n",
       "    <tr>\n",
       "      <th>2</th>\n",
       "      <td>2022-08-31</td>\n",
       "      <td>280.619995</td>\n",
       "      <td>281.250000</td>\n",
       "      <td>271.809998</td>\n",
       "      <td>275.609985</td>\n",
       "      <td>275.609985</td>\n",
       "      <td>52107300</td>\n",
       "      <td>851.319977</td>\n",
       "      <td>-7.250000</td>\n",
       "    </tr>\n",
       "    <tr>\n",
       "      <th>3</th>\n",
       "      <td>2022-09-01</td>\n",
       "      <td>272.579987</td>\n",
       "      <td>277.579987</td>\n",
       "      <td>266.149994</td>\n",
       "      <td>277.160004</td>\n",
       "      <td>277.160004</td>\n",
       "      <td>54287000</td>\n",
       "      <td>1123.899963</td>\n",
       "      <td>-8.040009</td>\n",
       "    </tr>\n",
       "    <tr>\n",
       "      <th>4</th>\n",
       "      <td>2022-09-02</td>\n",
       "      <td>281.070007</td>\n",
       "      <td>282.350006</td>\n",
       "      <td>269.079987</td>\n",
       "      <td>270.209991</td>\n",
       "      <td>270.209991</td>\n",
       "      <td>50890100</td>\n",
       "      <td>1404.969971</td>\n",
       "      <td>8.490021</td>\n",
       "    </tr>\n",
       "  </tbody>\n",
       "</table>\n",
       "</div>"
      ],
      "text/plain": [
       "         Date        Open        High         Low       Close   Adj Close  \\\n",
       "0  2022-08-29  282.829987  287.739990  280.700012  284.820007  284.820007   \n",
       "1  2022-08-30  287.869995  288.480011  272.649994  277.700012  277.700012   \n",
       "2  2022-08-31  280.619995  281.250000  271.809998  275.609985  275.609985   \n",
       "3  2022-09-01  272.579987  277.579987  266.149994  277.160004  277.160004   \n",
       "4  2022-09-02  281.070007  282.350006  269.079987  270.209991  270.209991   \n",
       "\n",
       "     Volume  Cumulative Open  Price Change  \n",
       "0  41864700       282.829987           NaN  \n",
       "1  50541800       570.699982      5.040009  \n",
       "2  52107300       851.319977     -7.250000  \n",
       "3  54287000      1123.899963     -8.040009  \n",
       "4  50890100      1404.969971      8.490021  "
      ]
     },
     "execution_count": 33,
     "metadata": {},
     "output_type": "execute_result"
    }
   ],
   "source": [
    "# Especifica la ruta de tu archivo Excel \n",
    "archivo_excel = 'C:\\\\Users\\\\52477\\\\Desktop\\\\DATA_SCIENCE_PROYECTS\\\\DATASETS\\\\tesla_data.csv'\n",
    "\n",
    "# Lee el archivo Excel en un DataFrame de Pandas\n",
    "df = pd.read_csv(archivo_excel)\n",
    "df.head()"
   ]
  },
  {
   "cell_type": "code",
   "execution_count": 37,
   "id": "9db75230",
   "metadata": {},
   "outputs": [],
   "source": [
    " \n",
    "import pandas as pd\n",
    "\n",
    "# Assuming 'Date' is your datetime column\n",
    "df['Date'] = pd.to_datetime(df['Date'])\n",
    "\n",
    "# Convert datetime to Unix timestamps (int64) in seconds\n",
    "df['Date'] = (df['Date'] - pd.Timestamp(\"1970-01-01\")) // pd.Timedelta(seconds=1)\n",
    "\n",
    "# If you specifically need int32, you can further convert it\n",
    "df['Date'] = df['Date'].astype('int32')\n"
   ]
  },
  {
   "cell_type": "code",
   "execution_count": null,
   "id": "ef0362af",
   "metadata": {},
   "outputs": [],
   "source": []
  },
  {
   "cell_type": "code",
   "execution_count": 38,
   "id": "919ed7be",
   "metadata": {},
   "outputs": [
    {
     "data": {
      "text/html": [
       "<div>\n",
       "<style scoped>\n",
       "    .dataframe tbody tr th:only-of-type {\n",
       "        vertical-align: middle;\n",
       "    }\n",
       "\n",
       "    .dataframe tbody tr th {\n",
       "        vertical-align: top;\n",
       "    }\n",
       "\n",
       "    .dataframe thead th {\n",
       "        text-align: right;\n",
       "    }\n",
       "</style>\n",
       "<table border=\"1\" class=\"dataframe\">\n",
       "  <thead>\n",
       "    <tr style=\"text-align: right;\">\n",
       "      <th></th>\n",
       "      <th>Date</th>\n",
       "      <th>Open</th>\n",
       "      <th>High</th>\n",
       "      <th>Low</th>\n",
       "      <th>Close</th>\n",
       "      <th>Adj Close</th>\n",
       "      <th>Volume</th>\n",
       "      <th>Cumulative Open</th>\n",
       "      <th>Price Change</th>\n",
       "    </tr>\n",
       "  </thead>\n",
       "  <tbody>\n",
       "    <tr>\n",
       "      <th>0</th>\n",
       "      <td>1661731200</td>\n",
       "      <td>282.829987</td>\n",
       "      <td>287.739990</td>\n",
       "      <td>280.700012</td>\n",
       "      <td>284.820007</td>\n",
       "      <td>284.820007</td>\n",
       "      <td>41864700</td>\n",
       "      <td>282.829987</td>\n",
       "      <td>NaN</td>\n",
       "    </tr>\n",
       "    <tr>\n",
       "      <th>1</th>\n",
       "      <td>1661817600</td>\n",
       "      <td>287.869995</td>\n",
       "      <td>288.480011</td>\n",
       "      <td>272.649994</td>\n",
       "      <td>277.700012</td>\n",
       "      <td>277.700012</td>\n",
       "      <td>50541800</td>\n",
       "      <td>570.699982</td>\n",
       "      <td>5.040009</td>\n",
       "    </tr>\n",
       "    <tr>\n",
       "      <th>2</th>\n",
       "      <td>1661904000</td>\n",
       "      <td>280.619995</td>\n",
       "      <td>281.250000</td>\n",
       "      <td>271.809998</td>\n",
       "      <td>275.609985</td>\n",
       "      <td>275.609985</td>\n",
       "      <td>52107300</td>\n",
       "      <td>851.319977</td>\n",
       "      <td>-7.250000</td>\n",
       "    </tr>\n",
       "    <tr>\n",
       "      <th>3</th>\n",
       "      <td>1661990400</td>\n",
       "      <td>272.579987</td>\n",
       "      <td>277.579987</td>\n",
       "      <td>266.149994</td>\n",
       "      <td>277.160004</td>\n",
       "      <td>277.160004</td>\n",
       "      <td>54287000</td>\n",
       "      <td>1123.899963</td>\n",
       "      <td>-8.040009</td>\n",
       "    </tr>\n",
       "    <tr>\n",
       "      <th>4</th>\n",
       "      <td>1662076800</td>\n",
       "      <td>281.070007</td>\n",
       "      <td>282.350006</td>\n",
       "      <td>269.079987</td>\n",
       "      <td>270.209991</td>\n",
       "      <td>270.209991</td>\n",
       "      <td>50890100</td>\n",
       "      <td>1404.969971</td>\n",
       "      <td>8.490021</td>\n",
       "    </tr>\n",
       "  </tbody>\n",
       "</table>\n",
       "</div>"
      ],
      "text/plain": [
       "         Date        Open        High         Low       Close   Adj Close  \\\n",
       "0  1661731200  282.829987  287.739990  280.700012  284.820007  284.820007   \n",
       "1  1661817600  287.869995  288.480011  272.649994  277.700012  277.700012   \n",
       "2  1661904000  280.619995  281.250000  271.809998  275.609985  275.609985   \n",
       "3  1661990400  272.579987  277.579987  266.149994  277.160004  277.160004   \n",
       "4  1662076800  281.070007  282.350006  269.079987  270.209991  270.209991   \n",
       "\n",
       "     Volume  Cumulative Open  Price Change  \n",
       "0  41864700       282.829987           NaN  \n",
       "1  50541800       570.699982      5.040009  \n",
       "2  52107300       851.319977     -7.250000  \n",
       "3  54287000      1123.899963     -8.040009  \n",
       "4  50890100      1404.969971      8.490021  "
      ]
     },
     "execution_count": 38,
     "metadata": {},
     "output_type": "execute_result"
    }
   ],
   "source": [
    "df.head()"
   ]
  },
  {
   "cell_type": "code",
   "execution_count": null,
   "id": "8874ac7b",
   "metadata": {},
   "outputs": [],
   "source": []
  },
  {
   "cell_type": "code",
   "execution_count": 43,
   "id": "c90e1099",
   "metadata": {},
   "outputs": [],
   "source": [
    "df = df.dropna()\n",
    "df = df.fillna(df.mean())\n",
    "df = df.replace([np.inf, -np.inf], np.nan)"
   ]
  },
  {
   "cell_type": "code",
   "execution_count": 44,
   "id": "c9da42d2",
   "metadata": {},
   "outputs": [],
   "source": [
    "from sklearn.preprocessing import StandardScaler\n",
    "\n",
    "scaler = StandardScaler()\n",
    "scaled_data = scaler.fit_transform(df)\n"
   ]
  },
  {
   "cell_type": "code",
   "execution_count": 45,
   "id": "7239a0a4",
   "metadata": {},
   "outputs": [
    {
     "name": "stderr",
     "output_type": "stream",
     "text": [
      "C:\\Users\\52477\\anaconda3\\lib\\site-packages\\sklearn\\cluster\\_kmeans.py:1036: UserWarning: KMeans is known to have a memory leak on Windows with MKL, when there are less chunks than available threads. You can avoid it by setting the environment variable OMP_NUM_THREADS=1.\n",
      "  warnings.warn(\n"
     ]
    },
    {
     "data": {
      "image/png": "[encoded data removed]",
      "text/plain": [
       "<Figure size 432x288 with 1 Axes>"
      ]
     },
     "metadata": {
      "needs_background": "light"
     },
     "output_type": "display_data"
    }
   ],
   "source": [
    "# Example: Using the elbow method to find an optimal k\n",
    "wcss = []\n",
    "for i in range(1, 11):\n",
    "    kmeans = KMeans(n_clusters=i, init='k-means++', max_iter=300, n_init=10, random_state=0)\n",
    "    kmeans.fit(scaled_data)\n",
    "    wcss.append(kmeans.inertia_)\n",
    "\n",
    "# Plot the elbow curve\n",
    "plt.plot(range(1, 11), wcss)\n",
    "plt.title('Elbow Method')\n",
    "plt.xlabel('Number of clusters')\n",
    "plt.ylabel('WCSS')  # Within-cluster sum of squares\n",
    "plt.show()\n"
   ]
  },
  {
   "cell_type": "code",
   "execution_count": 50,
   "id": "34174120",
   "metadata": {},
   "outputs": [],
   "source": [
    "# Example: Using k=3 clusters\n",
    "kmeans = KMeans(n_clusters=8, init='k-means++', max_iter=300, n_init=10, random_state=0)\n",
    "cluster_labels = kmeans.fit_predict(scaled_data)\n"
   ]
  },
  {
   "cell_type": "code",
   "execution_count": 51,
   "id": "5dfe0b77",
   "metadata": {},
   "outputs": [
    {
     "data": {
      "image/png": "[encoded data removed]",
      "text/plain": [
       "<Figure size 432x288 with 1 Axes>"
      ]
     },
     "metadata": {
      "needs_background": "light"
     },
     "output_type": "display_data"
    }
   ],
   "source": [
    "plt.scatter(scaled_data[:, 0], scaled_data[:, 1], c=cluster_labels, cmap='rainbow')\n",
    "plt.title('K-Means Clustering')\n",
    "plt.show()\n"
   ]
  },
  {
   "cell_type": "markdown",
   "id": "f2b811f0",
   "metadata": {},
   "source": [
    "### Dimensionality Reduction Algorithms"
   ]
  },
  {
   "cell_type": "code",
   "execution_count": 1,
   "id": "740572ea",
   "metadata": {},
   "outputs": [
    {
     "data": {
      "image/png": "[encoded data removed]",
      "text/plain": [
       "<Figure size 576x288 with 2 Axes>"
      ]
     },
     "metadata": {
      "needs_background": "light"
     },
     "output_type": "display_data"
    }
   ],
   "source": [
    "# Step 1: Import necessary libraries\n",
    "import numpy as np\n",
    "from sklearn.decomposition import PCA\n",
    "import matplotlib.pyplot as plt\n",
    "\n",
    "# Step 2: Create or load your dataset\n",
    "# For this example, let's generate some random data\n",
    "np.random.seed(0)\n",
    "data = np.random.randn(100, 2)  # 100 samples, 2 features\n",
    "\n",
    "# Step 3: Standardize the data (mean = 0, variance = 1)\n",
    "mean = np.mean(data, axis=0)\n",
    "std_dev = np.std(data, axis=0)\n",
    "data_standardized = (data - mean) / std_dev\n",
    "\n",
    "# Step 4: Apply PCA\n",
    "pca = PCA(n_components=2)  # You can specify the number of components you want to keep\n",
    "pca.fit(data_standardized)\n",
    "\n",
    "# Step 5: Transform the data to the first two principal components\n",
    "data_pca = pca.transform(data_standardized)\n",
    "\n",
    "# Step 6: Explained Variance Ratio\n",
    "explained_variance = pca.explained_variance_ratio_\n",
    "\n",
    "# Step 7: Visualize the results\n",
    "plt.figure(figsize=(8, 4))\n",
    "plt.subplot(1, 2, 1)\n",
    "plt.scatter(data_standardized[:, 0], data_standardized[:, 1], alpha=0.5)\n",
    "plt.title('Original Data')\n",
    "\n",
    "plt.subplot(1, 2, 2)\n",
    "plt.scatter(data_pca[:, 0], data_pca[:, 1], alpha=0.5)\n",
    "plt.title('Data After PCA')\n",
    "\n",
    "plt.show()\n"
   ]
  },
  {
   "cell_type": "markdown",
   "id": "2cdb35d0",
   "metadata": {},
   "source": [
    "#### Explanation of each step:\n",
    "\n",
    "Import Libraries: Import the necessary libraries, including numpy for numerical operations, scikit-learn for PCA, and matplotlib for visualization.\n",
    "\n",
    "Create or Load Data: In a real application, you would have your dataset. For this example, random data is generated.\n",
    "\n",
    "Standardize Data: Standardizing the data (mean = 0, variance = 1) is important for PCA, as it is a variance-based method. This step ensures that all features have equal influence.\n",
    "\n",
    "Apply PCA: Create a PCA object and fit it to the standardized data. You can specify the number of principal components to keep using the n_components parameter.\n",
    "\n",
    "Transform Data: Transform the standardized data into the principal component space.\n",
    "\n",
    "Explained Variance Ratio: The explained_variance_ratio_ attribute provides the proportion of the dataset's total variance explained by each principal component. It helps you understand how much information each component retains.\n",
    "\n",
    "Visualize Results: Create plots to compare the original data with the data transformed by PCA. In this example, we visualize the data in both the original feature space and the PCA-transformed space.\n",
    "\n",
    "PCA is a valuable technique for reducing the dimensionality of data while preserving most of the important information. It's commonly used in feature engineering and data preprocessing in machine learning."
   ]
  },
  {
   "cell_type": "code",
   "execution_count": 5,
   "id": "4a113b92",
   "metadata": {},
   "outputs": [
    {
     "name": "stdout",
     "output_type": "stream",
     "text": [
      "Explained Variance Ratio: [0.72962445 0.22850762]\n"
     ]
    },
    {
     "data": {
      "image/png": "[encoded data removed]",
      "text/plain": [
       "<Figure size 576x432 with 2 Axes>"
      ]
     },
     "metadata": {
      "needs_background": "light"
     },
     "output_type": "display_data"
    }
   ],
   "source": [
    "# Step 1: Import necessary libraries\n",
    "import numpy as np\n",
    "import pandas as pd\n",
    "import matplotlib.pyplot as plt\n",
    "from sklearn.datasets import load_iris\n",
    "from sklearn.preprocessing import StandardScaler\n",
    "from sklearn.decomposition import PCA\n",
    "\n",
    "# Step 2: Load the dataset\n",
    "data = load_iris()\n",
    "X = data.data  # Features\n",
    "y = data.target  # Target variable\n",
    "\n",
    "# Step 3: Standardize the data (mean = 0, variance = 1)\n",
    "scaler = StandardScaler()\n",
    "X_scaled = scaler.fit_transform(X)\n",
    "\n",
    "# Step 4: Apply PCA\n",
    "pca = PCA(n_components=2)  # We will reduce the data to 2 principal components\n",
    "X_pca = pca.fit_transform(X_scaled)\n",
    "\n",
    "# Step 5: Explained Variance Ratio\n",
    "explained_variance = pca.explained_variance_ratio_\n",
    "print(\"Explained Variance Ratio:\", explained_variance)\n",
    "\n",
    "# Step 6: Visualize the results\n",
    "plt.figure(figsize=(8, 6))\n",
    "plt.scatter(X_pca[:, 0], X_pca[:, 1], c=y, cmap='viridis')\n",
    "plt.xlabel('First Principal Component')\n",
    "plt.ylabel('Second Principal Component')\n",
    "plt.title('PCA of Iris Dataset')\n",
    "plt.colorbar(label='Target Class')\n",
    "plt.show()\n"
   ]
  },
  {
   "cell_type": "markdown",
   "id": "3daecd07",
   "metadata": {},
   "source": [
    "###  t-Distributed Stochastic Neighbor Embedding (t-SNE)"
   ]
  },
  {
   "cell_type": "markdown",
   "id": "c5f89f78",
   "metadata": {},
   "source": [
    "Certainly! t-Distributed Stochastic Neighbor Embedding (t-SNE) is a dimensionality reduction technique \n",
    "used for visualizing high-dimensional data. Here's an example of how to implement t-SNE \n",
    "in Python using the scikit-learn library:\n",
    "\n",
    "\n",
    "- Visualizes high-dimensional data in lower dimensions while preserving pairwise similarities."
   ]
  },
  {
   "cell_type": "code",
   "execution_count": 25,
   "id": "7981aa98",
   "metadata": {},
   "outputs": [
    {
     "name": "stderr",
     "output_type": "stream",
     "text": [
      "C:\\Users\\52477\\anaconda3\\lib\\site-packages\\sklearn\\manifold\\_t_sne.py:780: FutureWarning: The default initialization in TSNE will change from 'random' to 'pca' in 1.2.\n",
      "  warnings.warn(\n",
      "C:\\Users\\52477\\anaconda3\\lib\\site-packages\\sklearn\\manifold\\_t_sne.py:790: FutureWarning: The default learning rate in TSNE will change from 200.0 to 'auto' in 1.2.\n",
      "  warnings.warn(\n"
     ]
    },
    {
     "data": {
      "image/png": "[encoded data removed]",
      "text/plain": [
       "<Figure size 576x432 with 2 Axes>"
      ]
     },
     "metadata": {
      "needs_background": "light"
     },
     "output_type": "display_data"
    }
   ],
   "source": [
    "# Step 1: Import necessary libraries\n",
    "import numpy as np\n",
    "import pandas as pd\n",
    "import matplotlib.pyplot as plt\n",
    "from sklearn.datasets import load_iris\n",
    "from sklearn.manifold import TSNE\n",
    "\n",
    "# Step 2: Load the dataset\n",
    "data = load_iris()\n",
    "X = data.data  # Features\n",
    "y = data.target  # Target variable\n",
    "\n",
    "# Step 3: Apply t-SNE\n",
    "tsne = TSNE(n_components=2, perplexity=30, n_iter=300, random_state=42)\n",
    "X_tsne = tsne.fit_transform(X)\n",
    "\n",
    "# Step 4: Visualize the results\n",
    "plt.figure(figsize=(8, 6))\n",
    "plt.scatter(X_tsne[:, 0], X_tsne[:, 1], c=y, cmap='viridis')\n",
    "plt.xlabel('t-SNE Dimension 1')\n",
    "plt.ylabel('t-SNE Dimension 2')\n",
    "plt.title('t-SNE Visualization of Iris Dataset')\n",
    "plt.colorbar(label='Target Class')\n",
    "plt.show()\n"
   ]
  },
  {
   "cell_type": "markdown",
   "id": "df17171b",
   "metadata": {},
   "source": [
    "Explanation of each step:\n",
    "\n",
    "Import Libraries: Import necessary libraries, including numpy for numerical operations, pandas for data handling, matplotlib for visualization, and scikit-learn for t-SNE and dataset loading.\n",
    "\n",
    "Load the Dataset: Load the Iris dataset, which we used in the previous example. It contains samples of iris flowers with four features and three classes.\n",
    "\n",
    "Apply t-SNE: Create a t-SNE object, specifying the number of dimensions you want in the output (in this case, 2). You can also adjust the perplexity (a parameter that controls the balance between preserving global and local structure) and the number of iterations. Fit the t-SNE model to the data and transform it into the t-SNE space.\n",
    "\n",
    "Visualize Results: Create a scatter plot to visualize the data in the t-SNE space. Each point represents a sample from the dataset, and its color corresponds to the target class (species of iris). t-SNE aims to maintain the local structure of the data, making it useful for visualizing clusters and patterns that may not be apparent in the original high-dimensional space.\n",
    "\n",
    "t-SNE is particularly valuable for exploring and visualizing complex datasets with many features. It's commonly used in data analysis and machine learning to gain insights into data structures and relationships among data points. Adjusting the perplexity and other parameters can lead to different visualizations, so experimentation may be necessary to find the most informative representation for your data."
   ]
  },
  {
   "cell_type": "markdown",
   "id": "9dd408f7",
   "metadata": {},
   "source": [
    "### **Classification Algorithms**:\n",
    "   - **Logistic Regression**: Used for binary classification problems.\n",
    "   - **Decision Trees and Random Forest**: For both classification and regression tasks.\n",
    "   - **Support Vector Machines (SVM)**: Effective for linear and non-linear classification.\n",
    "   - **k-Nearest Neighbors (k-NN)**: Classifies data points based on the majority class among their nearest neighbors.\n"
   ]
  },
  {
   "cell_type": "markdown",
   "id": "966464b8",
   "metadata": {},
   "source": [
    "#### Logistic Regression: "
   ]
  },
  {
   "cell_type": "code",
   "execution_count": 26,
   "id": "727f4d81",
   "metadata": {},
   "outputs": [
    {
     "name": "stdout",
     "output_type": "stream",
     "text": [
      "Accuracy: 1.0\n",
      "Confusion Matrix:\n",
      " [[19  0  0]\n",
      " [ 0 13  0]\n",
      " [ 0  0 13]]\n",
      "Classification Report:\n",
      "               precision    recall  f1-score   support\n",
      "\n",
      "           0       1.00      1.00      1.00        19\n",
      "           1       1.00      1.00      1.00        13\n",
      "           2       1.00      1.00      1.00        13\n",
      "\n",
      "    accuracy                           1.00        45\n",
      "   macro avg       1.00      1.00      1.00        45\n",
      "weighted avg       1.00      1.00      1.00        45\n",
      "\n"
     ]
    }
   ],
   "source": [
    "# Step 1: Import necessary libraries\n",
    "import numpy as np\n",
    "import pandas as pd\n",
    "import matplotlib.pyplot as plt\n",
    "from sklearn.datasets import load_iris\n",
    "from sklearn.model_selection import train_test_split\n",
    "from sklearn.preprocessing import StandardScaler\n",
    "from sklearn.linear_model import LogisticRegression\n",
    "from sklearn.metrics import accuracy_score, classification_report, confusion_matrix\n",
    "\n",
    "# Step 2: Load and prepare the dataset\n",
    "data = load_iris()\n",
    "X = data.data  # Features\n",
    "y = data.target  # Target variable\n",
    "\n",
    "# Step 3: Split the dataset into training and testing sets\n",
    "X_train, X_test, y_train, y_test = train_test_split(X, y, test_size=0.3, random_state=42)\n",
    "\n",
    "# Step 4: Standardize the features (optional but recommended)\n",
    "scaler = StandardScaler()\n",
    "X_train = scaler.fit_transform(X_train)\n",
    "X_test = scaler.transform(X_test)\n",
    "\n",
    "# Step 5: Create and train the logistic regression model\n",
    "logistic_reg = LogisticRegression(random_state=42, max_iter=1000)\n",
    "logistic_reg.fit(X_train, y_train)\n",
    "\n",
    "# Step 6: Make predictions on the test data\n",
    "y_pred = logistic_reg.predict(X_test)\n",
    "\n",
    "# Step 7: Evaluate the model\n",
    "accuracy = accuracy_score(y_test, y_pred)\n",
    "confusion = confusion_matrix(y_test, y_pred)\n",
    "classification_rep = classification_report(y_test, y_pred)\n",
    "\n",
    "# Step 8: Display the results\n",
    "print(\"Accuracy:\", accuracy)\n",
    "print(\"Confusion Matrix:\\n\", confusion)\n",
    "print(\"Classification Report:\\n\", classification_rep)\n"
   ]
  },
  {
   "cell_type": "markdown",
   "id": "d08ff269",
   "metadata": {},
   "source": [
    "Explanation of each step:\n",
    "\n",
    "Import Libraries: Import the necessary libraries, including numpy for numerical operations, pandas for data handling, matplotlib for visualization, and scikit-learn for logistic regression, dataset loading, and evaluation metrics.\n",
    "\n",
    "Load and Prepare Data: Load the Iris dataset, which is a classification dataset containing features and target variables. No additional preparation is needed for this dataset.\n",
    "\n",
    "Split Data: Split the dataset into training and testing sets using the train_test_split function. This step is essential to assess the model's performance on unseen data.\n",
    "\n",
    "Standardize Features: Standardize the feature data (X_train and X_test) to have a mean of 0 and a standard deviation of 1. Standardization can help improve the performance of some machine learning algorithms.\n",
    "\n",
    "Create and Train Model: Create a logistic regression model with the LogisticRegression class from scikit-learn. Set parameters like random_state and max_iter, and then fit the model to the training data.\n",
    "\n",
    "Make Predictions: Use the trained model to make predictions on the test data (X_test).\n",
    "\n",
    "Evaluate Model: Calculate the accuracy of the model using accuracy_score, generate a confusion matrix to understand the model's performance in different classes, and produce a classification report with metrics like precision, recall, and F1-score.\n",
    "\n",
    "Display Results: Print out the accuracy, confusion matrix, and classification report to assess the model's performance."
   ]
  },
  {
   "cell_type": "code",
   "execution_count": 27,
   "id": "1393ccb7",
   "metadata": {},
   "outputs": [
    {
     "data": {
      "image/png": "[encoded data removed]",
      "text/plain": [
       "<Figure size 432x288 with 1 Axes>"
      ]
     },
     "metadata": {
      "needs_background": "light"
     },
     "output_type": "display_data"
    }
   ],
   "source": [
    "# Step 1: Import necessary libraries\n",
    "import numpy as np\n",
    "import matplotlib.pyplot as plt\n",
    "from sklearn.datasets import make_classification\n",
    "from sklearn.linear_model import LogisticRegression\n",
    "\n",
    "# Step 2: Generate a synthetic dataset\n",
    "X, y = make_classification(n_samples=100, n_features=2, n_informative=2, n_redundant=0, random_state=42)\n",
    "\n",
    "# Step 3: Create and train the logistic regression model\n",
    "logistic_reg = LogisticRegression()\n",
    "logistic_reg.fit(X, y)\n",
    "\n",
    "# Step 4: Create a mesh grid for plotting the decision boundary\n",
    "x_min, x_max = X[:, 0].min() - 1, X[:, 0].max() + 1\n",
    "y_min, y_max = X[:, 1].min() - 1, X[:, 1].max() + 1\n",
    "xx, yy = np.meshgrid(np.arange(x_min, x_max, 0.01), np.arange(y_min, y_max, 0.01))\n",
    "\n",
    "# Step 5: Use the model to make predictions on the mesh grid\n",
    "Z = logistic_reg.predict(np.c_[xx.ravel(), yy.ravel()])\n",
    "Z = Z.reshape(xx.shape)\n",
    "\n",
    "# Step 6: Plot the decision boundary\n",
    "plt.contourf(xx, yy, Z, alpha=0.8)\n",
    "plt.scatter(X[:, 0], X[:, 1], c=y, edgecolors='k')\n",
    "plt.xlabel('Feature 1')\n",
    "plt.ylabel('Feature 2')\n",
    "plt.title('Logistic Regression Decision Boundary')\n",
    "plt.show()\n"
   ]
  },
  {
   "cell_type": "markdown",
   "id": "63153746",
   "metadata": {},
   "source": [
    "Explanation of each step:\n",
    "\n",
    "Import Libraries: Import necessary libraries, including numpy for numerical operations, matplotlib for visualization, and scikit-learn for logistic regression and dataset generation.\n",
    "\n",
    "Generate Synthetic Data: Create a synthetic dataset using the make_classification function from scikit-learn. This dataset consists of two features and is suitable for binary classification.\n",
    "\n",
    "Create and Train Model: Create a logistic regression model using LogisticRegression() from scikit-learn. Fit the model to the synthetic data using fit().\n",
    "\n",
    "Create Mesh Grid: Create a mesh grid of points covering the feature space. This grid will be used to visualize the decision boundary.\n",
    "\n",
    "Make Predictions on Mesh Grid: Use the trained logistic regression model to make predictions on all points in the mesh grid. This allows us to determine the decision boundary.\n",
    "\n",
    "Plot Decision Boundary: Plot the decision boundary as a contour plot and overlay the original data points on top of it. This visual representation shows how the logistic regression model separates the two classes in the feature space."
   ]
  },
  {
   "cell_type": "code",
   "execution_count": null,
   "id": "f1201cd3",
   "metadata": {},
   "outputs": [],
   "source": []
  },
  {
   "cell_type": "markdown",
   "id": "72fd4ddf",
   "metadata": {},
   "source": [
    "#### Decision Trees and Random Forest: "
   ]
  },
  {
   "cell_type": "code",
   "execution_count": 38,
   "id": "ddabca47",
   "metadata": {},
   "outputs": [],
   "source": [
    "import pandas as pd\n",
    "from sklearn.model_selection import train_test_split\n",
    "from sklearn.tree import DecisionTreeClassifier\n",
    "from sklearn.ensemble import RandomForestClassifier\n",
    "from sklearn.metrics import accuracy_score, classification_report\n"
   ]
  },
  {
   "cell_type": "code",
   "execution_count": 43,
   "id": "a95f1d15",
   "metadata": {},
   "outputs": [],
   "source": [
    "# Load the dataset from a CSV file\n",
    "data = pd.read_csv('C:\\\\Users\\\\52477\\\\Desktop\\\\DATA_SCIENCE_PROYECTS\\\\DATASETS\\\\titanic.csv')"
   ]
  },
  {
   "cell_type": "code",
   "execution_count": 44,
   "id": "a668fcf4",
   "metadata": {},
   "outputs": [
    {
     "data": {
      "text/html": [
       "<div>\n",
       "<style scoped>\n",
       "    .dataframe tbody tr th:only-of-type {\n",
       "        vertical-align: middle;\n",
       "    }\n",
       "\n",
       "    .dataframe tbody tr th {\n",
       "        vertical-align: top;\n",
       "    }\n",
       "\n",
       "    .dataframe thead th {\n",
       "        text-align: right;\n",
       "    }\n",
       "</style>\n",
       "<table border=\"1\" class=\"dataframe\">\n",
       "  <thead>\n",
       "    <tr style=\"text-align: right;\">\n",
       "      <th></th>\n",
       "      <th>PassengerId</th>\n",
       "      <th>Survived</th>\n",
       "      <th>Pclass</th>\n",
       "      <th>Name</th>\n",
       "      <th>Sex</th>\n",
       "      <th>Age</th>\n",
       "      <th>SibSp</th>\n",
       "      <th>Parch</th>\n",
       "      <th>Ticket</th>\n",
       "      <th>Fare</th>\n",
       "      <th>Cabin</th>\n",
       "      <th>Embarked</th>\n",
       "    </tr>\n",
       "  </thead>\n",
       "  <tbody>\n",
       "    <tr>\n",
       "      <th>0</th>\n",
       "      <td>1</td>\n",
       "      <td>0</td>\n",
       "      <td>3</td>\n",
       "      <td>Braund, Mr. Owen Harris</td>\n",
       "      <td>male</td>\n",
       "      <td>22.0</td>\n",
       "      <td>1</td>\n",
       "      <td>0</td>\n",
       "      <td>A/5 21171</td>\n",
       "      <td>7.2500</td>\n",
       "      <td>NaN</td>\n",
       "      <td>S</td>\n",
       "    </tr>\n",
       "    <tr>\n",
       "      <th>1</th>\n",
       "      <td>2</td>\n",
       "      <td>1</td>\n",
       "      <td>1</td>\n",
       "      <td>Cumings, Mrs. John Bradley (Florence Briggs Th...</td>\n",
       "      <td>female</td>\n",
       "      <td>38.0</td>\n",
       "      <td>1</td>\n",
       "      <td>0</td>\n",
       "      <td>PC 17599</td>\n",
       "      <td>71.2833</td>\n",
       "      <td>C85</td>\n",
       "      <td>C</td>\n",
       "    </tr>\n",
       "    <tr>\n",
       "      <th>2</th>\n",
       "      <td>3</td>\n",
       "      <td>1</td>\n",
       "      <td>3</td>\n",
       "      <td>Heikkinen, Miss. Laina</td>\n",
       "      <td>female</td>\n",
       "      <td>26.0</td>\n",
       "      <td>0</td>\n",
       "      <td>0</td>\n",
       "      <td>STON/O2. 3101282</td>\n",
       "      <td>7.9250</td>\n",
       "      <td>NaN</td>\n",
       "      <td>S</td>\n",
       "    </tr>\n",
       "    <tr>\n",
       "      <th>3</th>\n",
       "      <td>4</td>\n",
       "      <td>1</td>\n",
       "      <td>1</td>\n",
       "      <td>Futrelle, Mrs. Jacques Heath (Lily May Peel)</td>\n",
       "      <td>female</td>\n",
       "      <td>35.0</td>\n",
       "      <td>1</td>\n",
       "      <td>0</td>\n",
       "      <td>113803</td>\n",
       "      <td>53.1000</td>\n",
       "      <td>C123</td>\n",
       "      <td>S</td>\n",
       "    </tr>\n",
       "    <tr>\n",
       "      <th>4</th>\n",
       "      <td>5</td>\n",
       "      <td>0</td>\n",
       "      <td>3</td>\n",
       "      <td>Allen, Mr. William Henry</td>\n",
       "      <td>male</td>\n",
       "      <td>35.0</td>\n",
       "      <td>0</td>\n",
       "      <td>0</td>\n",
       "      <td>373450</td>\n",
       "      <td>8.0500</td>\n",
       "      <td>NaN</td>\n",
       "      <td>S</td>\n",
       "    </tr>\n",
       "  </tbody>\n",
       "</table>\n",
       "</div>"
      ],
      "text/plain": [
       "   PassengerId  Survived  Pclass  \\\n",
       "0            1         0       3   \n",
       "1            2         1       1   \n",
       "2            3         1       3   \n",
       "3            4         1       1   \n",
       "4            5         0       3   \n",
       "\n",
       "                                                Name     Sex   Age  SibSp  \\\n",
       "0                            Braund, Mr. Owen Harris    male  22.0      1   \n",
       "1  Cumings, Mrs. John Bradley (Florence Briggs Th...  female  38.0      1   \n",
       "2                             Heikkinen, Miss. Laina  female  26.0      0   \n",
       "3       Futrelle, Mrs. Jacques Heath (Lily May Peel)  female  35.0      1   \n",
       "4                           Allen, Mr. William Henry    male  35.0      0   \n",
       "\n",
       "   Parch            Ticket     Fare Cabin Embarked  \n",
       "0      0         A/5 21171   7.2500   NaN        S  \n",
       "1      0          PC 17599  71.2833   C85        C  \n",
       "2      0  STON/O2. 3101282   7.9250   NaN        S  \n",
       "3      0            113803  53.1000  C123        S  \n",
       "4      0            373450   8.0500   NaN        S  "
      ]
     },
     "execution_count": 44,
     "metadata": {},
     "output_type": "execute_result"
    }
   ],
   "source": [
    "data.head()"
   ]
  },
  {
   "cell_type": "code",
   "execution_count": 45,
   "id": "cee23721",
   "metadata": {},
   "outputs": [],
   "source": [
    " \n",
    "\n",
    "# Select features (X) and target (y)\n",
    "X = data[['Pclass', 'Sex', 'Age', 'SibSp', 'Parch']]\n",
    "y = data['Survived']\n",
    "\n",
    "# Preprocess categorical data (e.g., convert 'Sex' to numerical)\n",
    "X = pd.get_dummies(X, columns=['Sex'], drop_first=True)\n",
    "\n",
    "# Handle missing values (e.g., fill missing ages with the median age)\n",
    "X['Age'].fillna(X['Age'].median(), inplace=True)\n",
    "\n",
    "# Split the dataset into training and testing sets\n",
    "X_train, X_test, y_train, y_test = train_test_split(X, y, test_size=0.2, random_state=42)\n",
    "\n",
    "\n"
   ]
  },
  {
   "cell_type": "code",
   "execution_count": 46,
   "id": "577a9199",
   "metadata": {},
   "outputs": [
    {
     "name": "stdout",
     "output_type": "stream",
     "text": [
      "Decision Tree Accuracy: 0.7597765363128491\n",
      "Decision Tree Classification Report:\n",
      "               precision    recall  f1-score   support\n",
      "\n",
      "           0       0.78      0.83      0.80       105\n",
      "           1       0.73      0.66      0.70        74\n",
      "\n",
      "    accuracy                           0.76       179\n",
      "   macro avg       0.75      0.75      0.75       179\n",
      "weighted avg       0.76      0.76      0.76       179\n",
      "\n"
     ]
    }
   ],
   "source": [
    "# Create a Decision Tree Classifier\n",
    "decision_tree = DecisionTreeClassifier()\n",
    "\n",
    "# Train the model on the training data\n",
    "decision_tree.fit(X_train, y_train)\n",
    "\n",
    "# Make predictions on the test data\n",
    "y_pred_dt = decision_tree.predict(X_test)\n",
    "\n",
    "# Evaluate the model\n",
    "accuracy_dt = accuracy_score(y_test, y_pred_dt)\n",
    "report_dt = classification_report(y_test, y_pred_dt)\n",
    "\n",
    "print(\"Decision Tree Accuracy:\", accuracy_dt)\n",
    "print(\"Decision Tree Classification Report:\\n\", report_dt)\n"
   ]
  },
  {
   "cell_type": "code",
   "execution_count": 47,
   "id": "cfe88b9a",
   "metadata": {},
   "outputs": [
    {
     "name": "stdout",
     "output_type": "stream",
     "text": [
      "Random Forest Accuracy: 0.8212290502793296\n",
      "Random Forest Classification Report:\n",
      "               precision    recall  f1-score   support\n",
      "\n",
      "           0       0.83      0.88      0.85       105\n",
      "           1       0.81      0.74      0.77        74\n",
      "\n",
      "    accuracy                           0.82       179\n",
      "   macro avg       0.82      0.81      0.81       179\n",
      "weighted avg       0.82      0.82      0.82       179\n",
      "\n"
     ]
    }
   ],
   "source": [
    "# Create a Random Forest Classifier\n",
    "random_forest = RandomForestClassifier(n_estimators=100, random_state=42)\n",
    "\n",
    "# Train the model on the training data\n",
    "random_forest.fit(X_train, y_train)\n",
    "\n",
    "# Make predictions on the test data\n",
    "y_pred_rf = random_forest.predict(X_test)\n",
    "\n",
    "# Evaluate the model\n",
    "accuracy_rf = accuracy_score(y_test, y_pred_rf)\n",
    "report_rf = classification_report(y_test, y_pred_rf)\n",
    "\n",
    "print(\"Random Forest Accuracy:\", accuracy_rf)\n",
    "print(\"Random Forest Classification Report:\\n\", report_rf)\n"
   ]
  },
  {
   "cell_type": "markdown",
   "id": "9482ee0e",
   "metadata": {},
   "source": [
    "Import Libraries: Import the necessary libraries, including pandas for data manipulation, scikit-learn for machine learning, and the relevant modules for Decision Trees and Random Forests.\n",
    "\n",
    "Load and Prepare the Dataset:\n",
    "\n",
    "Load the Titanic dataset from a CSV file.\n",
    "Select the features (X) and target (y) for classification.\n",
    "Preprocess categorical data (e.g., convert 'Sex' to numerical using one-hot encoding).\n",
    "Handle missing values (e.g., fill missing ages with the median age).\n",
    "Split the dataset into training and testing sets.\n",
    "Decision Tree Classifier:\n",
    "\n",
    "Create a Decision Tree Classifier.\n",
    "Train the model on the training data.\n",
    "Make predictions on the test data.\n",
    "Evaluate the model's performance using accuracy and a classification report.\n",
    "Random Forest Classifier:\n",
    "\n",
    "Create a Random Forest Classifier with 100 trees.\n",
    "Train the model on the training data.\n",
    "Make predictions on the test data.\n",
    "Evaluate the model's performance using accuracy and a classification report."
   ]
  },
  {
   "cell_type": "code",
   "execution_count": null,
   "id": "4eb92f70",
   "metadata": {},
   "outputs": [],
   "source": []
  },
  {
   "cell_type": "markdown",
   "id": "908f8ce4",
   "metadata": {},
   "source": [
    "#### Support Vector Machines (SVM)"
   ]
  },
  {
   "cell_type": "markdown",
   "id": "63443922",
   "metadata": {},
   "source": [
    "Certainly! Support Vector Machines (SVM) is a powerful classification algorithm. Here's an example of how to implement SVM in Python using a CSV file as the dataset. In this example, we'll use the famous Iris dataset for a multiclass classification task, but you can replace it with your own CSV dataset. We'll use the svm.SVC class from scikit-learn."
   ]
  },
  {
   "cell_type": "code",
   "execution_count": 48,
   "id": "9ae4b978",
   "metadata": {},
   "outputs": [],
   "source": [
    "import pandas as pd\n",
    "from sklearn.model_selection import train_test_split\n",
    "from sklearn.preprocessing import StandardScaler\n",
    "from sklearn import svm\n",
    "from sklearn.metrics import accuracy_score, classification_report\n"
   ]
  },
  {
   "cell_type": "code",
   "execution_count": 70,
   "id": "723ca3de",
   "metadata": {},
   "outputs": [],
   "source": [
    "# Load your dataset from a CSV file (replace 'your_dataset.csv' with your file)\n",
    "data = pd.read_csv('C:\\\\Users\\\\52477\\\\Desktop\\\\DATA_SCIENCE_PROYECTS\\\\DATASETS\\\\tesla_data.csv')"
   ]
  },
  {
   "cell_type": "code",
   "execution_count": 71,
   "id": "672b7f3a",
   "metadata": {},
   "outputs": [
    {
     "data": {
      "text/html": [
       "<div>\n",
       "<style scoped>\n",
       "    .dataframe tbody tr th:only-of-type {\n",
       "        vertical-align: middle;\n",
       "    }\n",
       "\n",
       "    .dataframe tbody tr th {\n",
       "        vertical-align: top;\n",
       "    }\n",
       "\n",
       "    .dataframe thead th {\n",
       "        text-align: right;\n",
       "    }\n",
       "</style>\n",
       "<table border=\"1\" class=\"dataframe\">\n",
       "  <thead>\n",
       "    <tr style=\"text-align: right;\">\n",
       "      <th></th>\n",
       "      <th>Date</th>\n",
       "      <th>Open</th>\n",
       "      <th>High</th>\n",
       "      <th>Low</th>\n",
       "      <th>Close</th>\n",
       "      <th>Adj Close</th>\n",
       "      <th>Volume</th>\n",
       "      <th>Cumulative Open</th>\n",
       "      <th>Price Change</th>\n",
       "    </tr>\n",
       "  </thead>\n",
       "  <tbody>\n",
       "    <tr>\n",
       "      <th>0</th>\n",
       "      <td>2022-08-29</td>\n",
       "      <td>282.829987</td>\n",
       "      <td>287.739990</td>\n",
       "      <td>280.700012</td>\n",
       "      <td>284.820007</td>\n",
       "      <td>284.820007</td>\n",
       "      <td>41864700</td>\n",
       "      <td>282.829987</td>\n",
       "      <td>NaN</td>\n",
       "    </tr>\n",
       "    <tr>\n",
       "      <th>1</th>\n",
       "      <td>2022-08-30</td>\n",
       "      <td>287.869995</td>\n",
       "      <td>288.480011</td>\n",
       "      <td>272.649994</td>\n",
       "      <td>277.700012</td>\n",
       "      <td>277.700012</td>\n",
       "      <td>50541800</td>\n",
       "      <td>570.699982</td>\n",
       "      <td>5.040009</td>\n",
       "    </tr>\n",
       "    <tr>\n",
       "      <th>2</th>\n",
       "      <td>2022-08-31</td>\n",
       "      <td>280.619995</td>\n",
       "      <td>281.250000</td>\n",
       "      <td>271.809998</td>\n",
       "      <td>275.609985</td>\n",
       "      <td>275.609985</td>\n",
       "      <td>52107300</td>\n",
       "      <td>851.319977</td>\n",
       "      <td>-7.250000</td>\n",
       "    </tr>\n",
       "    <tr>\n",
       "      <th>3</th>\n",
       "      <td>2022-09-01</td>\n",
       "      <td>272.579987</td>\n",
       "      <td>277.579987</td>\n",
       "      <td>266.149994</td>\n",
       "      <td>277.160004</td>\n",
       "      <td>277.160004</td>\n",
       "      <td>54287000</td>\n",
       "      <td>1123.899963</td>\n",
       "      <td>-8.040009</td>\n",
       "    </tr>\n",
       "    <tr>\n",
       "      <th>4</th>\n",
       "      <td>2022-09-02</td>\n",
       "      <td>281.070007</td>\n",
       "      <td>282.350006</td>\n",
       "      <td>269.079987</td>\n",
       "      <td>270.209991</td>\n",
       "      <td>270.209991</td>\n",
       "      <td>50890100</td>\n",
       "      <td>1404.969971</td>\n",
       "      <td>8.490021</td>\n",
       "    </tr>\n",
       "  </tbody>\n",
       "</table>\n",
       "</div>"
      ],
      "text/plain": [
       "         Date        Open        High         Low       Close   Adj Close  \\\n",
       "0  2022-08-29  282.829987  287.739990  280.700012  284.820007  284.820007   \n",
       "1  2022-08-30  287.869995  288.480011  272.649994  277.700012  277.700012   \n",
       "2  2022-08-31  280.619995  281.250000  271.809998  275.609985  275.609985   \n",
       "3  2022-09-01  272.579987  277.579987  266.149994  277.160004  277.160004   \n",
       "4  2022-09-02  281.070007  282.350006  269.079987  270.209991  270.209991   \n",
       "\n",
       "     Volume  Cumulative Open  Price Change  \n",
       "0  41864700       282.829987           NaN  \n",
       "1  50541800       570.699982      5.040009  \n",
       "2  52107300       851.319977     -7.250000  \n",
       "3  54287000      1123.899963     -8.040009  \n",
       "4  50890100      1404.969971      8.490021  "
      ]
     },
     "execution_count": 71,
     "metadata": {},
     "output_type": "execute_result"
    }
   ],
   "source": [
    "data.head()"
   ]
  },
  {
   "cell_type": "code",
   "execution_count": 80,
   "id": "b894dce4",
   "metadata": {},
   "outputs": [],
   "source": [
    "\n",
    "\n",
    "# Select features (X) and target (y)\n",
    "X = data.iloc[:, :-1]  # All columns except the last one as features\n",
    "y = data.iloc[:, -1]   # The last column as the target variable\n",
    "\n",
    "# Preprocess categorical data (e.g., convert 'Sex' to numerical)\n",
    "#X = pd.get_dummies(X, columns=['Gender'], drop_first=True)  # One-hot encoding for 'Sex'\n",
    "\n",
    "# Handle missing values (if necessary)\n",
    "# Example: X['Age'].fillna(X['Age'].median(), inplace=True)\n",
    "# Drop the date-like column (replace 'DateColumnName' with the actual column name)\n",
    "\n",
    "\n",
    "# Split the dataset into training and testing sets\n",
    "X_train, X_test, y_train, y_test = train_test_split(X, y, test_size=0.2, random_state=42)\n",
    "\n"
   ]
  },
  {
   "cell_type": "code",
   "execution_count": 77,
   "id": "9eb6c00f",
   "metadata": {},
   "outputs": [],
   "source": [
    "\n",
    "#non_numeric_columns = X_train.select_dtypes(exclude=['float64', 'int64']).columns\n",
    "#print(\"Non-numeric columns:\", non_numeric_columns)\n"
   ]
  },
  {
   "cell_type": "code",
   "execution_count": 78,
   "id": "f0796781",
   "metadata": {},
   "outputs": [],
   "source": [
    "#X_train['ColumnName'] = X_train['ColumnName'].map({'Yes': 1, 'No': 0})\n",
    "#X_test['ColumnName'] = X_test['ColumnName'].map({'Yes': 1, 'No': 0})\n"
   ]
  },
  {
   "cell_type": "code",
   "execution_count": 81,
   "id": "a9226669",
   "metadata": {},
   "outputs": [],
   "source": [
    "X_train = X_train.drop(columns=['Date'])\n",
    "X_test = X_test.drop(columns=['Date'])\n"
   ]
  },
  {
   "cell_type": "code",
   "execution_count": 85,
   "id": "4041d629",
   "metadata": {},
   "outputs": [
    {
     "ename": "AttributeError",
     "evalue": "'numpy.ndarray' object has no attribute 'isna'",
     "output_type": "error",
     "traceback": [
      "\u001b[1;31m---------------------------------------------------------------------------\u001b[0m",
      "\u001b[1;31mAttributeError\u001b[0m                            Traceback (most recent call last)",
      "Input \u001b[1;32mIn [85]\u001b[0m, in \u001b[0;36m<cell line: 1>\u001b[1;34m()\u001b[0m\n\u001b[1;32m----> 1\u001b[0m missing_values \u001b[38;5;241m=\u001b[39m \u001b[43mX_train\u001b[49m\u001b[38;5;241;43m.\u001b[39;49m\u001b[43misna\u001b[49m()\u001b[38;5;241m.\u001b[39msum()\n\u001b[0;32m      2\u001b[0m \u001b[38;5;28mprint\u001b[39m(missing_values)\n",
      "\u001b[1;31mAttributeError\u001b[0m: 'numpy.ndarray' object has no attribute 'isna'"
     ]
    }
   ],
   "source": [
    "\n"
   ]
  },
  {
   "cell_type": "code",
   "execution_count": null,
   "id": "9dae33c0",
   "metadata": {},
   "outputs": [],
   "source": []
  },
  {
   "cell_type": "code",
   "execution_count": 101,
   "id": "a106e454",
   "metadata": {},
   "outputs": [],
   "source": [
    "import numpy as np\n",
    "\n",
    "# Check for NaN values in the NumPy array\n",
    "has_nan = np.isnan(X_train)\n",
    "\n",
    "# If you have NaN values, decide how to handle them (impute or drop)\n"
   ]
  },
  {
   "cell_type": "code",
   "execution_count": null,
   "id": "0e25332b",
   "metadata": {},
   "outputs": [],
   "source": []
  },
  {
   "cell_type": "code",
   "execution_count": 103,
   "id": "14ee945e",
   "metadata": {},
   "outputs": [],
   "source": [
    "# Standardize the feature data (mean = 0, variance = 1)\n",
    "#scaler = StandardScaler()\n",
    "#X_train = scaler.fit_transform(X_train)\n",
    "#X_test = scaler.transform(X_test)"
   ]
  },
  {
   "cell_type": "code",
   "execution_count": 104,
   "id": "1c8da279",
   "metadata": {},
   "outputs": [
    {
     "name": "stdout",
     "output_type": "stream",
     "text": [
      "0\n"
     ]
    }
   ],
   "source": [
    "import numpy as np\n",
    "\n",
    "# Check for missing values in the NumPy array\n",
    "missing_values = np.isnan(X_train).sum()\n",
    "print(missing_values)\n"
   ]
  },
  {
   "cell_type": "code",
   "execution_count": 105,
   "id": "2d9c0041",
   "metadata": {},
   "outputs": [],
   "source": [
    "from sklearn.impute import SimpleImputer\n",
    "\n",
    "# Create an imputer for numerical columns\n",
    "imputer = SimpleImputer(strategy='mean')\n",
    "X_train = imputer.fit_transform(X_train)\n",
    "X_test = imputer.transform(X_test)\n"
   ]
  },
  {
   "cell_type": "code",
   "execution_count": 106,
   "id": "f8387a72",
   "metadata": {},
   "outputs": [],
   "source": [
    "import numpy as np\n",
    "\n",
    "# Create a mask for rows with missing values\n",
    "missing_rows = np.isnan(X_train).any(axis=1)\n",
    "\n",
    "# Select rows without missing values\n",
    "X_train = X_train[~missing_rows]\n",
    "y_train = y_train[~missing_rows]\n"
   ]
  },
  {
   "cell_type": "code",
   "execution_count": null,
   "id": "4582ce2d",
   "metadata": {},
   "outputs": [],
   "source": []
  },
  {
   "cell_type": "code",
   "execution_count": 107,
   "id": "320ee435",
   "metadata": {},
   "outputs": [
    {
     "ename": "ValueError",
     "evalue": "Input contains NaN, infinity or a value too large for dtype('float64').",
     "output_type": "error",
     "traceback": [
      "\u001b[1;31m---------------------------------------------------------------------------\u001b[0m",
      "\u001b[1;31mValueError\u001b[0m                                Traceback (most recent call last)",
      "Input \u001b[1;32mIn [107]\u001b[0m, in \u001b[0;36m<cell line: 5>\u001b[1;34m()\u001b[0m\n\u001b[0;32m      2\u001b[0m svm_classifier \u001b[38;5;241m=\u001b[39m svm\u001b[38;5;241m.\u001b[39mSVC(kernel\u001b[38;5;241m=\u001b[39m\u001b[38;5;124m'\u001b[39m\u001b[38;5;124mlinear\u001b[39m\u001b[38;5;124m'\u001b[39m, C\u001b[38;5;241m=\u001b[39m\u001b[38;5;241m1\u001b[39m)\n\u001b[0;32m      4\u001b[0m \u001b[38;5;66;03m# Train the model on the training data\u001b[39;00m\n\u001b[1;32m----> 5\u001b[0m \u001b[43msvm_classifier\u001b[49m\u001b[38;5;241;43m.\u001b[39;49m\u001b[43mfit\u001b[49m\u001b[43m(\u001b[49m\u001b[43mX_train\u001b[49m\u001b[43m,\u001b[49m\u001b[43m \u001b[49m\u001b[43my_train\u001b[49m\u001b[43m)\u001b[49m\n",
      "File \u001b[1;32m~\\anaconda3\\lib\\site-packages\\sklearn\\svm\\_base.py:190\u001b[0m, in \u001b[0;36mBaseLibSVM.fit\u001b[1;34m(self, X, y, sample_weight)\u001b[0m\n\u001b[0;32m    188\u001b[0m     check_consistent_length(X, y)\n\u001b[0;32m    189\u001b[0m \u001b[38;5;28;01melse\u001b[39;00m:\n\u001b[1;32m--> 190\u001b[0m     X, y \u001b[38;5;241m=\u001b[39m \u001b[38;5;28;43mself\u001b[39;49m\u001b[38;5;241;43m.\u001b[39;49m\u001b[43m_validate_data\u001b[49m\u001b[43m(\u001b[49m\n\u001b[0;32m    191\u001b[0m \u001b[43m        \u001b[49m\u001b[43mX\u001b[49m\u001b[43m,\u001b[49m\n\u001b[0;32m    192\u001b[0m \u001b[43m        \u001b[49m\u001b[43my\u001b[49m\u001b[43m,\u001b[49m\n\u001b[0;32m    193\u001b[0m \u001b[43m        \u001b[49m\u001b[43mdtype\u001b[49m\u001b[38;5;241;43m=\u001b[39;49m\u001b[43mnp\u001b[49m\u001b[38;5;241;43m.\u001b[39;49m\u001b[43mfloat64\u001b[49m\u001b[43m,\u001b[49m\n\u001b[0;32m    194\u001b[0m \u001b[43m        \u001b[49m\u001b[43morder\u001b[49m\u001b[38;5;241;43m=\u001b[39;49m\u001b[38;5;124;43m\"\u001b[39;49m\u001b[38;5;124;43mC\u001b[39;49m\u001b[38;5;124;43m\"\u001b[39;49m\u001b[43m,\u001b[49m\n\u001b[0;32m    195\u001b[0m \u001b[43m        \u001b[49m\u001b[43maccept_sparse\u001b[49m\u001b[38;5;241;43m=\u001b[39;49m\u001b[38;5;124;43m\"\u001b[39;49m\u001b[38;5;124;43mcsr\u001b[39;49m\u001b[38;5;124;43m\"\u001b[39;49m\u001b[43m,\u001b[49m\n\u001b[0;32m    196\u001b[0m \u001b[43m        \u001b[49m\u001b[43maccept_large_sparse\u001b[49m\u001b[38;5;241;43m=\u001b[39;49m\u001b[38;5;28;43;01mFalse\u001b[39;49;00m\u001b[43m,\u001b[49m\n\u001b[0;32m    197\u001b[0m \u001b[43m    \u001b[49m\u001b[43m)\u001b[49m\n\u001b[0;32m    199\u001b[0m y \u001b[38;5;241m=\u001b[39m \u001b[38;5;28mself\u001b[39m\u001b[38;5;241m.\u001b[39m_validate_targets(y)\n\u001b[0;32m    201\u001b[0m sample_weight \u001b[38;5;241m=\u001b[39m np\u001b[38;5;241m.\u001b[39masarray(\n\u001b[0;32m    202\u001b[0m     [] \u001b[38;5;28;01mif\u001b[39;00m sample_weight \u001b[38;5;129;01mis\u001b[39;00m \u001b[38;5;28;01mNone\u001b[39;00m \u001b[38;5;28;01melse\u001b[39;00m sample_weight, dtype\u001b[38;5;241m=\u001b[39mnp\u001b[38;5;241m.\u001b[39mfloat64\n\u001b[0;32m    203\u001b[0m )\n",
      "File \u001b[1;32m~\\anaconda3\\lib\\site-packages\\sklearn\\base.py:581\u001b[0m, in \u001b[0;36mBaseEstimator._validate_data\u001b[1;34m(self, X, y, reset, validate_separately, **check_params)\u001b[0m\n\u001b[0;32m    579\u001b[0m         y \u001b[38;5;241m=\u001b[39m check_array(y, \u001b[38;5;241m*\u001b[39m\u001b[38;5;241m*\u001b[39mcheck_y_params)\n\u001b[0;32m    580\u001b[0m     \u001b[38;5;28;01melse\u001b[39;00m:\n\u001b[1;32m--> 581\u001b[0m         X, y \u001b[38;5;241m=\u001b[39m check_X_y(X, y, \u001b[38;5;241m*\u001b[39m\u001b[38;5;241m*\u001b[39mcheck_params)\n\u001b[0;32m    582\u001b[0m     out \u001b[38;5;241m=\u001b[39m X, y\n\u001b[0;32m    584\u001b[0m \u001b[38;5;28;01mif\u001b[39;00m \u001b[38;5;129;01mnot\u001b[39;00m no_val_X \u001b[38;5;129;01mand\u001b[39;00m check_params\u001b[38;5;241m.\u001b[39mget(\u001b[38;5;124m\"\u001b[39m\u001b[38;5;124mensure_2d\u001b[39m\u001b[38;5;124m\"\u001b[39m, \u001b[38;5;28;01mTrue\u001b[39;00m):\n",
      "File \u001b[1;32m~\\anaconda3\\lib\\site-packages\\sklearn\\utils\\validation.py:979\u001b[0m, in \u001b[0;36mcheck_X_y\u001b[1;34m(X, y, accept_sparse, accept_large_sparse, dtype, order, copy, force_all_finite, ensure_2d, allow_nd, multi_output, ensure_min_samples, ensure_min_features, y_numeric, estimator)\u001b[0m\n\u001b[0;32m    962\u001b[0m     \u001b[38;5;28;01mraise\u001b[39;00m \u001b[38;5;167;01mValueError\u001b[39;00m(\u001b[38;5;124m\"\u001b[39m\u001b[38;5;124my cannot be None\u001b[39m\u001b[38;5;124m\"\u001b[39m)\n\u001b[0;32m    964\u001b[0m X \u001b[38;5;241m=\u001b[39m check_array(\n\u001b[0;32m    965\u001b[0m     X,\n\u001b[0;32m    966\u001b[0m     accept_sparse\u001b[38;5;241m=\u001b[39maccept_sparse,\n\u001b[1;32m   (...)\u001b[0m\n\u001b[0;32m    976\u001b[0m     estimator\u001b[38;5;241m=\u001b[39mestimator,\n\u001b[0;32m    977\u001b[0m )\n\u001b[1;32m--> 979\u001b[0m y \u001b[38;5;241m=\u001b[39m \u001b[43m_check_y\u001b[49m\u001b[43m(\u001b[49m\u001b[43my\u001b[49m\u001b[43m,\u001b[49m\u001b[43m \u001b[49m\u001b[43mmulti_output\u001b[49m\u001b[38;5;241;43m=\u001b[39;49m\u001b[43mmulti_output\u001b[49m\u001b[43m,\u001b[49m\u001b[43m \u001b[49m\u001b[43my_numeric\u001b[49m\u001b[38;5;241;43m=\u001b[39;49m\u001b[43my_numeric\u001b[49m\u001b[43m)\u001b[49m\n\u001b[0;32m    981\u001b[0m check_consistent_length(X, y)\n\u001b[0;32m    983\u001b[0m \u001b[38;5;28;01mreturn\u001b[39;00m X, y\n",
      "File \u001b[1;32m~\\anaconda3\\lib\\site-packages\\sklearn\\utils\\validation.py:994\u001b[0m, in \u001b[0;36m_check_y\u001b[1;34m(y, multi_output, y_numeric)\u001b[0m\n\u001b[0;32m    992\u001b[0m \u001b[38;5;28;01melse\u001b[39;00m:\n\u001b[0;32m    993\u001b[0m     y \u001b[38;5;241m=\u001b[39m column_or_1d(y, warn\u001b[38;5;241m=\u001b[39m\u001b[38;5;28;01mTrue\u001b[39;00m)\n\u001b[1;32m--> 994\u001b[0m     \u001b[43m_assert_all_finite\u001b[49m\u001b[43m(\u001b[49m\u001b[43my\u001b[49m\u001b[43m)\u001b[49m\n\u001b[0;32m    995\u001b[0m     _ensure_no_complex_data(y)\n\u001b[0;32m    996\u001b[0m \u001b[38;5;28;01mif\u001b[39;00m y_numeric \u001b[38;5;129;01mand\u001b[39;00m y\u001b[38;5;241m.\u001b[39mdtype\u001b[38;5;241m.\u001b[39mkind \u001b[38;5;241m==\u001b[39m \u001b[38;5;124m\"\u001b[39m\u001b[38;5;124mO\u001b[39m\u001b[38;5;124m\"\u001b[39m:\n",
      "File \u001b[1;32m~\\anaconda3\\lib\\site-packages\\sklearn\\utils\\validation.py:114\u001b[0m, in \u001b[0;36m_assert_all_finite\u001b[1;34m(X, allow_nan, msg_dtype)\u001b[0m\n\u001b[0;32m    107\u001b[0m     \u001b[38;5;28;01mif\u001b[39;00m (\n\u001b[0;32m    108\u001b[0m         allow_nan\n\u001b[0;32m    109\u001b[0m         \u001b[38;5;129;01mand\u001b[39;00m np\u001b[38;5;241m.\u001b[39misinf(X)\u001b[38;5;241m.\u001b[39many()\n\u001b[0;32m    110\u001b[0m         \u001b[38;5;129;01mor\u001b[39;00m \u001b[38;5;129;01mnot\u001b[39;00m allow_nan\n\u001b[0;32m    111\u001b[0m         \u001b[38;5;129;01mand\u001b[39;00m \u001b[38;5;129;01mnot\u001b[39;00m np\u001b[38;5;241m.\u001b[39misfinite(X)\u001b[38;5;241m.\u001b[39mall()\n\u001b[0;32m    112\u001b[0m     ):\n\u001b[0;32m    113\u001b[0m         type_err \u001b[38;5;241m=\u001b[39m \u001b[38;5;124m\"\u001b[39m\u001b[38;5;124minfinity\u001b[39m\u001b[38;5;124m\"\u001b[39m \u001b[38;5;28;01mif\u001b[39;00m allow_nan \u001b[38;5;28;01melse\u001b[39;00m \u001b[38;5;124m\"\u001b[39m\u001b[38;5;124mNaN, infinity\u001b[39m\u001b[38;5;124m\"\u001b[39m\n\u001b[1;32m--> 114\u001b[0m         \u001b[38;5;28;01mraise\u001b[39;00m \u001b[38;5;167;01mValueError\u001b[39;00m(\n\u001b[0;32m    115\u001b[0m             msg_err\u001b[38;5;241m.\u001b[39mformat(\n\u001b[0;32m    116\u001b[0m                 type_err, msg_dtype \u001b[38;5;28;01mif\u001b[39;00m msg_dtype \u001b[38;5;129;01mis\u001b[39;00m \u001b[38;5;129;01mnot\u001b[39;00m \u001b[38;5;28;01mNone\u001b[39;00m \u001b[38;5;28;01melse\u001b[39;00m X\u001b[38;5;241m.\u001b[39mdtype\n\u001b[0;32m    117\u001b[0m             )\n\u001b[0;32m    118\u001b[0m         )\n\u001b[0;32m    119\u001b[0m \u001b[38;5;66;03m# for object dtype data, we only check for NaNs (GH-13254)\u001b[39;00m\n\u001b[0;32m    120\u001b[0m \u001b[38;5;28;01melif\u001b[39;00m X\u001b[38;5;241m.\u001b[39mdtype \u001b[38;5;241m==\u001b[39m np\u001b[38;5;241m.\u001b[39mdtype(\u001b[38;5;124m\"\u001b[39m\u001b[38;5;124mobject\u001b[39m\u001b[38;5;124m\"\u001b[39m) \u001b[38;5;129;01mand\u001b[39;00m \u001b[38;5;129;01mnot\u001b[39;00m allow_nan:\n",
      "\u001b[1;31mValueError\u001b[0m: Input contains NaN, infinity or a value too large for dtype('float64')."
     ]
    }
   ],
   "source": [
    "# Create an SVM classifier (you can choose between 'linear', 'poly', 'rbf', etc., kernels)\n",
    "svm_classifier = svm.SVC(kernel='linear', C=1)\n",
    "\n",
    "# Train the model on the training data\n",
    "svm_classifier.fit(X_train, y_train)\n"
   ]
  },
  {
   "cell_type": "code",
   "execution_count": 99,
   "id": "99ab79a1",
   "metadata": {},
   "outputs": [
    {
     "ename": "NotFittedError",
     "evalue": "This SVC instance is not fitted yet. Call 'fit' with appropriate arguments before using this estimator.",
     "output_type": "error",
     "traceback": [
      "\u001b[1;31m---------------------------------------------------------------------------\u001b[0m",
      "\u001b[1;31mNotFittedError\u001b[0m                            Traceback (most recent call last)",
      "Input \u001b[1;32mIn [99]\u001b[0m, in \u001b[0;36m<cell line: 2>\u001b[1;34m()\u001b[0m\n\u001b[0;32m      1\u001b[0m \u001b[38;5;66;03m# Make predictions on the test data\u001b[39;00m\n\u001b[1;32m----> 2\u001b[0m y_pred \u001b[38;5;241m=\u001b[39m \u001b[43msvm_classifier\u001b[49m\u001b[38;5;241;43m.\u001b[39;49m\u001b[43mpredict\u001b[49m\u001b[43m(\u001b[49m\u001b[43mX_test\u001b[49m\u001b[43m)\u001b[49m\n\u001b[0;32m      4\u001b[0m \u001b[38;5;66;03m# Evaluate the model's performance\u001b[39;00m\n\u001b[0;32m      5\u001b[0m accuracy \u001b[38;5;241m=\u001b[39m accuracy_score(y_test, y_pred)\n",
      "File \u001b[1;32m~\\anaconda3\\lib\\site-packages\\sklearn\\svm\\_base.py:778\u001b[0m, in \u001b[0;36mBaseSVC.predict\u001b[1;34m(self, X)\u001b[0m\n\u001b[0;32m    761\u001b[0m \u001b[38;5;28;01mdef\u001b[39;00m \u001b[38;5;21mpredict\u001b[39m(\u001b[38;5;28mself\u001b[39m, X):\n\u001b[0;32m    762\u001b[0m \u001b[38;5;250m    \u001b[39m\u001b[38;5;124;03m\"\"\"Perform classification on samples in X.\u001b[39;00m\n\u001b[0;32m    763\u001b[0m \n\u001b[0;32m    764\u001b[0m \u001b[38;5;124;03m    For an one-class model, +1 or -1 is returned.\u001b[39;00m\n\u001b[1;32m   (...)\u001b[0m\n\u001b[0;32m    776\u001b[0m \u001b[38;5;124;03m        Class labels for samples in X.\u001b[39;00m\n\u001b[0;32m    777\u001b[0m \u001b[38;5;124;03m    \"\"\"\u001b[39;00m\n\u001b[1;32m--> 778\u001b[0m     \u001b[43mcheck_is_fitted\u001b[49m\u001b[43m(\u001b[49m\u001b[38;5;28;43mself\u001b[39;49m\u001b[43m)\u001b[49m\n\u001b[0;32m    779\u001b[0m     \u001b[38;5;28;01mif\u001b[39;00m \u001b[38;5;28mself\u001b[39m\u001b[38;5;241m.\u001b[39mbreak_ties \u001b[38;5;129;01mand\u001b[39;00m \u001b[38;5;28mself\u001b[39m\u001b[38;5;241m.\u001b[39mdecision_function_shape \u001b[38;5;241m==\u001b[39m \u001b[38;5;124m\"\u001b[39m\u001b[38;5;124movo\u001b[39m\u001b[38;5;124m\"\u001b[39m:\n\u001b[0;32m    780\u001b[0m         \u001b[38;5;28;01mraise\u001b[39;00m \u001b[38;5;167;01mValueError\u001b[39;00m(\n\u001b[0;32m    781\u001b[0m             \u001b[38;5;124m\"\u001b[39m\u001b[38;5;124mbreak_ties must be False when decision_function_shape is \u001b[39m\u001b[38;5;124m'\u001b[39m\u001b[38;5;124movo\u001b[39m\u001b[38;5;124m'\u001b[39m\u001b[38;5;124m\"\u001b[39m\n\u001b[0;32m    782\u001b[0m         )\n",
      "File \u001b[1;32m~\\anaconda3\\lib\\site-packages\\sklearn\\utils\\validation.py:1222\u001b[0m, in \u001b[0;36mcheck_is_fitted\u001b[1;34m(estimator, attributes, msg, all_or_any)\u001b[0m\n\u001b[0;32m   1217\u001b[0m     fitted \u001b[38;5;241m=\u001b[39m [\n\u001b[0;32m   1218\u001b[0m         v \u001b[38;5;28;01mfor\u001b[39;00m v \u001b[38;5;129;01min\u001b[39;00m \u001b[38;5;28mvars\u001b[39m(estimator) \u001b[38;5;28;01mif\u001b[39;00m v\u001b[38;5;241m.\u001b[39mendswith(\u001b[38;5;124m\"\u001b[39m\u001b[38;5;124m_\u001b[39m\u001b[38;5;124m\"\u001b[39m) \u001b[38;5;129;01mand\u001b[39;00m \u001b[38;5;129;01mnot\u001b[39;00m v\u001b[38;5;241m.\u001b[39mstartswith(\u001b[38;5;124m\"\u001b[39m\u001b[38;5;124m__\u001b[39m\u001b[38;5;124m\"\u001b[39m)\n\u001b[0;32m   1219\u001b[0m     ]\n\u001b[0;32m   1221\u001b[0m \u001b[38;5;28;01mif\u001b[39;00m \u001b[38;5;129;01mnot\u001b[39;00m fitted:\n\u001b[1;32m-> 1222\u001b[0m     \u001b[38;5;28;01mraise\u001b[39;00m NotFittedError(msg \u001b[38;5;241m%\u001b[39m {\u001b[38;5;124m\"\u001b[39m\u001b[38;5;124mname\u001b[39m\u001b[38;5;124m\"\u001b[39m: \u001b[38;5;28mtype\u001b[39m(estimator)\u001b[38;5;241m.\u001b[39m\u001b[38;5;18m__name__\u001b[39m})\n",
      "\u001b[1;31mNotFittedError\u001b[0m: This SVC instance is not fitted yet. Call 'fit' with appropriate arguments before using this estimator."
     ]
    }
   ],
   "source": [
    "# Make predictions on the test data\n",
    "y_pred = svm_classifier.predict(X_test)\n",
    "\n",
    "# Evaluate the model's performance\n",
    "accuracy = accuracy_score(y_test, y_pred)\n",
    "report = classification_report(y_test, y_pred)\n",
    "\n",
    "print(\"Accuracy:\", accuracy)\n",
    "print(\"Classification Report:\\n\", report)\n"
   ]
  },
  {
   "cell_type": "markdown",
   "id": "3672679a",
   "metadata": {},
   "source": [
    "Import Libraries: Import necessary libraries, including pandas for data manipulation, scikit-learn for machine learning, and modules for SVM, data preprocessing, and evaluation.\n",
    "\n",
    "Load and Prepare the Dataset:\n",
    "\n",
    "Load your dataset from a CSV file, replacing 'your_dataset.csv' with your file.\n",
    "Select features (X) and target (y).\n",
    "Split the dataset into training and testing sets.\n",
    "Standardize the feature data (optional but often recommended).\n",
    "Create and Train the SVM Model:\n",
    "\n",
    "Create an SVM classifier using svm.SVC. You can specify the kernel (e.g., 'linear', 'poly', 'rbf'), and other hyperparameters (e.g., C for regularization).\n",
    "Train the model on the training data using fit().\n",
    "Make Predictions and Evaluate:\n",
    "\n",
    "Make predictions on the test data using predict().\n",
    "Evaluate the model's performance using accuracy and a classification report, which provides additional metrics like precision, recall, and F1-score."
   ]
  },
  {
   "cell_type": "code",
   "execution_count": null,
   "id": "d59b5765",
   "metadata": {},
   "outputs": [],
   "source": []
  },
  {
   "cell_type": "markdown",
   "id": "b1cf08fe",
   "metadata": {},
   "source": [
    "#### k-Nearest Neighbors (k-NN)\n",
    "\n",
    "Certainly! Here's an example of how to use the k-Nearest Neighbors (k-NN) algorithm with the Titanic dataset from Kaggle. In this example, we'll load the Titanic dataset, preprocess it, split it into training and testing sets, and then apply k-NN for classification."
   ]
  },
  {
   "cell_type": "code",
   "execution_count": 109,
   "id": "a25ebc93",
   "metadata": {},
   "outputs": [
    {
     "ename": "KeyError",
     "evalue": "\"None of [Index(['Pclass', 'Age', 'SibSp', 'Parch', 'Fare'], dtype='object')] are in the [columns]\"",
     "output_type": "error",
     "traceback": [
      "\u001b[1;31m---------------------------------------------------------------------------\u001b[0m",
      "\u001b[1;31mKeyError\u001b[0m                                  Traceback (most recent call last)",
      "Input \u001b[1;32mIn [109]\u001b[0m, in \u001b[0;36m<cell line: 13>\u001b[1;34m()\u001b[0m\n\u001b[0;32m      9\u001b[0m data \u001b[38;5;241m=\u001b[39m pd\u001b[38;5;241m.\u001b[39mread_csv(\u001b[38;5;124m'\u001b[39m\u001b[38;5;124mC:\u001b[39m\u001b[38;5;130;01m\\\\\u001b[39;00m\u001b[38;5;124mUsers\u001b[39m\u001b[38;5;130;01m\\\\\u001b[39;00m\u001b[38;5;124m52477\u001b[39m\u001b[38;5;130;01m\\\\\u001b[39;00m\u001b[38;5;124mDesktop\u001b[39m\u001b[38;5;130;01m\\\\\u001b[39;00m\u001b[38;5;124mDATA_SCIENCE_PROYECTS\u001b[39m\u001b[38;5;130;01m\\\\\u001b[39;00m\u001b[38;5;124mDATASETS\u001b[39m\u001b[38;5;130;01m\\\\\u001b[39;00m\u001b[38;5;124mtesla_data.csv\u001b[39m\u001b[38;5;124m'\u001b[39m)\n\u001b[0;32m     11\u001b[0m \u001b[38;5;66;03m# Data Preprocessing\u001b[39;00m\n\u001b[0;32m     12\u001b[0m \u001b[38;5;66;03m# Select relevant features and target variable\u001b[39;00m\n\u001b[1;32m---> 13\u001b[0m X \u001b[38;5;241m=\u001b[39m \u001b[43mdata\u001b[49m\u001b[43m[\u001b[49m\u001b[43m[\u001b[49m\u001b[38;5;124;43m'\u001b[39;49m\u001b[38;5;124;43mPclass\u001b[39;49m\u001b[38;5;124;43m'\u001b[39;49m\u001b[43m,\u001b[49m\u001b[43m \u001b[49m\u001b[38;5;124;43m'\u001b[39;49m\u001b[38;5;124;43mAge\u001b[39;49m\u001b[38;5;124;43m'\u001b[39;49m\u001b[43m,\u001b[49m\u001b[43m \u001b[49m\u001b[38;5;124;43m'\u001b[39;49m\u001b[38;5;124;43mSibSp\u001b[39;49m\u001b[38;5;124;43m'\u001b[39;49m\u001b[43m,\u001b[49m\u001b[43m \u001b[49m\u001b[38;5;124;43m'\u001b[39;49m\u001b[38;5;124;43mParch\u001b[39;49m\u001b[38;5;124;43m'\u001b[39;49m\u001b[43m,\u001b[49m\u001b[43m \u001b[49m\u001b[38;5;124;43m'\u001b[39;49m\u001b[38;5;124;43mFare\u001b[39;49m\u001b[38;5;124;43m'\u001b[39;49m\u001b[43m]\u001b[49m\u001b[43m]\u001b[49m\n\u001b[0;32m     14\u001b[0m y \u001b[38;5;241m=\u001b[39m data[\u001b[38;5;124m'\u001b[39m\u001b[38;5;124mSurvived\u001b[39m\u001b[38;5;124m'\u001b[39m]\n\u001b[0;32m     16\u001b[0m \u001b[38;5;66;03m# Handle missing values (e.g., fill missing ages with the mean age)\u001b[39;00m\n",
      "File \u001b[1;32m~\\anaconda3\\lib\\site-packages\\pandas\\core\\frame.py:3511\u001b[0m, in \u001b[0;36mDataFrame.__getitem__\u001b[1;34m(self, key)\u001b[0m\n\u001b[0;32m   3509\u001b[0m     \u001b[38;5;28;01mif\u001b[39;00m is_iterator(key):\n\u001b[0;32m   3510\u001b[0m         key \u001b[38;5;241m=\u001b[39m \u001b[38;5;28mlist\u001b[39m(key)\n\u001b[1;32m-> 3511\u001b[0m     indexer \u001b[38;5;241m=\u001b[39m \u001b[38;5;28;43mself\u001b[39;49m\u001b[38;5;241;43m.\u001b[39;49m\u001b[43mcolumns\u001b[49m\u001b[38;5;241;43m.\u001b[39;49m\u001b[43m_get_indexer_strict\u001b[49m\u001b[43m(\u001b[49m\u001b[43mkey\u001b[49m\u001b[43m,\u001b[49m\u001b[43m \u001b[49m\u001b[38;5;124;43m\"\u001b[39;49m\u001b[38;5;124;43mcolumns\u001b[39;49m\u001b[38;5;124;43m\"\u001b[39;49m\u001b[43m)\u001b[49m[\u001b[38;5;241m1\u001b[39m]\n\u001b[0;32m   3513\u001b[0m \u001b[38;5;66;03m# take() does not accept boolean indexers\u001b[39;00m\n\u001b[0;32m   3514\u001b[0m \u001b[38;5;28;01mif\u001b[39;00m \u001b[38;5;28mgetattr\u001b[39m(indexer, \u001b[38;5;124m\"\u001b[39m\u001b[38;5;124mdtype\u001b[39m\u001b[38;5;124m\"\u001b[39m, \u001b[38;5;28;01mNone\u001b[39;00m) \u001b[38;5;241m==\u001b[39m \u001b[38;5;28mbool\u001b[39m:\n",
      "File \u001b[1;32m~\\anaconda3\\lib\\site-packages\\pandas\\core\\indexes\\base.py:5782\u001b[0m, in \u001b[0;36mIndex._get_indexer_strict\u001b[1;34m(self, key, axis_name)\u001b[0m\n\u001b[0;32m   5779\u001b[0m \u001b[38;5;28;01melse\u001b[39;00m:\n\u001b[0;32m   5780\u001b[0m     keyarr, indexer, new_indexer \u001b[38;5;241m=\u001b[39m \u001b[38;5;28mself\u001b[39m\u001b[38;5;241m.\u001b[39m_reindex_non_unique(keyarr)\n\u001b[1;32m-> 5782\u001b[0m \u001b[38;5;28;43mself\u001b[39;49m\u001b[38;5;241;43m.\u001b[39;49m\u001b[43m_raise_if_missing\u001b[49m\u001b[43m(\u001b[49m\u001b[43mkeyarr\u001b[49m\u001b[43m,\u001b[49m\u001b[43m \u001b[49m\u001b[43mindexer\u001b[49m\u001b[43m,\u001b[49m\u001b[43m \u001b[49m\u001b[43maxis_name\u001b[49m\u001b[43m)\u001b[49m\n\u001b[0;32m   5784\u001b[0m keyarr \u001b[38;5;241m=\u001b[39m \u001b[38;5;28mself\u001b[39m\u001b[38;5;241m.\u001b[39mtake(indexer)\n\u001b[0;32m   5785\u001b[0m \u001b[38;5;28;01mif\u001b[39;00m \u001b[38;5;28misinstance\u001b[39m(key, Index):\n\u001b[0;32m   5786\u001b[0m     \u001b[38;5;66;03m# GH 42790 - Preserve name from an Index\u001b[39;00m\n",
      "File \u001b[1;32m~\\anaconda3\\lib\\site-packages\\pandas\\core\\indexes\\base.py:5842\u001b[0m, in \u001b[0;36mIndex._raise_if_missing\u001b[1;34m(self, key, indexer, axis_name)\u001b[0m\n\u001b[0;32m   5840\u001b[0m     \u001b[38;5;28;01mif\u001b[39;00m use_interval_msg:\n\u001b[0;32m   5841\u001b[0m         key \u001b[38;5;241m=\u001b[39m \u001b[38;5;28mlist\u001b[39m(key)\n\u001b[1;32m-> 5842\u001b[0m     \u001b[38;5;28;01mraise\u001b[39;00m \u001b[38;5;167;01mKeyError\u001b[39;00m(\u001b[38;5;124mf\u001b[39m\u001b[38;5;124m\"\u001b[39m\u001b[38;5;124mNone of [\u001b[39m\u001b[38;5;132;01m{\u001b[39;00mkey\u001b[38;5;132;01m}\u001b[39;00m\u001b[38;5;124m] are in the [\u001b[39m\u001b[38;5;132;01m{\u001b[39;00maxis_name\u001b[38;5;132;01m}\u001b[39;00m\u001b[38;5;124m]\u001b[39m\u001b[38;5;124m\"\u001b[39m)\n\u001b[0;32m   5844\u001b[0m not_found \u001b[38;5;241m=\u001b[39m \u001b[38;5;28mlist\u001b[39m(ensure_index(key)[missing_mask\u001b[38;5;241m.\u001b[39mnonzero()[\u001b[38;5;241m0\u001b[39m]]\u001b[38;5;241m.\u001b[39munique())\n\u001b[0;32m   5845\u001b[0m \u001b[38;5;28;01mraise\u001b[39;00m \u001b[38;5;167;01mKeyError\u001b[39;00m(\u001b[38;5;124mf\u001b[39m\u001b[38;5;124m\"\u001b[39m\u001b[38;5;132;01m{\u001b[39;00mnot_found\u001b[38;5;132;01m}\u001b[39;00m\u001b[38;5;124m not in index\u001b[39m\u001b[38;5;124m\"\u001b[39m)\n",
      "\u001b[1;31mKeyError\u001b[0m: \"None of [Index(['Pclass', 'Age', 'SibSp', 'Parch', 'Fare'], dtype='object')] are in the [columns]\""
     ]
    }
   ],
   "source": [
    "import pandas as pd\n",
    "import numpy as np\n",
    "from sklearn.model_selection import train_test_split\n",
    "from sklearn.preprocessing import StandardScaler\n",
    "from sklearn.neighbors import KNeighborsClassifier\n",
    "from sklearn.metrics import accuracy_score, classification_report, confusion_matrix\n",
    "\n",
    "# Load the Titanic dataset (assuming the dataset is in the current directory)\n",
    "data = pd.read_csv('C:\\\\Users\\\\52477\\\\Desktop\\\\DATA_SCIENCE_PROYECTS\\\\DATASETS\\\\tesla_data.csv')\n",
    "\n",
    "# Data Preprocessing\n",
    "# Select relevant features and target variable\n",
    "X = data[['Pclass', 'Age', 'SibSp', 'Parch', 'Fare']]\n",
    "y = data['Survived']\n",
    "\n",
    "# Handle missing values (e.g., fill missing ages with the mean age)\n",
    "X['Age'].fillna(X['Age'].mean(), inplace=True)\n",
    "\n",
    "# Split the dataset into training and testing sets\n",
    "X_train, X_test, y_train, y_test = train_test_split(X, y, test_size=0.2, random_state=42)\n",
    "\n",
    "# Feature Scaling (standardize the features)\n",
    "scaler = StandardScaler()\n",
    "X_train = scaler.fit_transform(X_train)\n",
    "X_test = scaler.transform(X_test)\n",
    "\n",
    "# Create a k-NN classifier (e.g., with k=5)\n",
    "k = 5\n",
    "knn_classifier = KNeighborsClassifier(n_neighbors=k)\n",
    "\n",
    "# Train the k-NN classifier on the training data\n",
    "knn_classifier.fit(X_train, y_train)\n",
    "\n",
    "# Make predictions on the testing data\n",
    "y_pred = knn_classifier.predict(X_test)\n",
    "\n",
    "# Evaluate the model\n",
    "accuracy = accuracy_score(y_test, y_pred)\n",
    "confusion = confusion_matrix(y_test, y_pred)\n",
    "classification_rep = classification_report(y_test, y_pred)\n",
    "\n",
    "print(f'Accuracy: {accuracy}')\n",
    "print('Confusion Matrix:')\n",
    "print(confusion)\n",
    "print('Classification Report:')\n",
    "print(classification_rep)\n"
   ]
  },
  {
   "cell_type": "code",
   "execution_count": null,
   "id": "5cc8c4f7",
   "metadata": {},
   "outputs": [],
   "source": []
  },
  {
   "cell_type": "code",
   "execution_count": null,
   "id": "4a1443b8",
   "metadata": {},
   "outputs": [],
   "source": []
  }
 ],
 "metadata": {
  "kernelspec": {
   "display_name": "Python 3 (ipykernel)",
   "language": "python",
   "name": "python3"
  },
  "language_info": {
   "codemirror_mode": {
    "name": "ipython",
    "version": 3
   },
   "file_extension": ".py",
   "mimetype": "text/x-python",
   "name": "python",
   "nbconvert_exporter": "python",
   "pygments_lexer": "ipython3",
   "version": "3.9.12"
  }
 },
 "nbformat": 4,
 "nbformat_minor": 5
}
